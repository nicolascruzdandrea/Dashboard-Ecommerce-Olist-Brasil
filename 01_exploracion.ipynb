{
 "cells": [
  {
   "cell_type": "code",
   "execution_count": 4,
   "id": "e36c3638-233b-4f4e-995b-d046cbfd1b4a",
   "metadata": {},
   "outputs": [],
   "source": [
    "import pandas as pd\n",
    "import numpy as np"
   ]
  },
  {
   "cell_type": "code",
   "execution_count": 144,
   "id": "c59b3a3a-02e6-4d61-af7e-3a93389151a2",
   "metadata": {},
   "outputs": [],
   "source": [
    "productos = pd.read_csv(\"C:/Users/nicol/OneDrive/Escritorio/Proyectos/Proyecto 1/olist_products_dataset.csv\")\n",
    "\n",
    "clientes = pd.read_csv(\"C:/Users/nicol/OneDrive/Escritorio/Proyectos/Proyecto 1/olist_customers_dataset.csv\")\n",
    "\n",
    "ordenes_items = pd.read_csv(\"C:/Users/nicol/OneDrive/Escritorio/Proyectos/Proyecto 1/olist_order_items_dataset.csv\")\n",
    "\n",
    "pagos = pd.read_csv(\"C:/Users/nicol/OneDrive/Escritorio/Proyectos/Proyecto 1/olist_order_payments_dataset.csv\")\n",
    "\n",
    "reseñas = pd.read_csv(\"C:/Users/nicol/OneDrive/Escritorio/Proyectos/Proyecto 1/olist_order_reviews_dataset.csv\")\n",
    "\n",
    "ordenes = pd.read_csv(\"C:/Users/nicol/OneDrive/Escritorio/Proyectos/Proyecto 1/olist_orders_dataset.csv\")\n",
    "\n",
    "vendedores = pd.read_csv(\"C:/Users/nicol/OneDrive/Escritorio/Proyectos/Proyecto 1/olist_sellers_dataset.csv\")\n",
    "\n",
    "categorias = pd.read_csv(\"C:/Users/nicol/OneDrive/Escritorio/Proyectos/Proyecto 1/product_category_name_translation.csv\")"
   ]
  },
  {
   "cell_type": "code",
   "execution_count": 145,
   "id": "0ff5639b-85b0-443d-a5ae-51095ffa9291",
   "metadata": {},
   "outputs": [
    {
     "name": "stdout",
     "output_type": "stream",
     "text": [
      "['product_id' 'product_category_name' 'product_name_lenght'\n",
      " 'product_description_lenght' 'product_photos_qty' 'product_weight_g'\n",
      " 'product_length_cm' 'product_height_cm' 'product_width_cm']\n",
      "['customer_id' 'customer_unique_id' 'customer_zip_code_prefix'\n",
      " 'customer_city' 'customer_state']\n",
      "['order_id' 'order_item_id' 'product_id' 'seller_id' 'shipping_limit_date'\n",
      " 'price' 'freight_value']\n",
      "['order_id' 'payment_sequential' 'payment_type' 'payment_installments'\n",
      " 'payment_value']\n",
      "['review_id' 'order_id' 'review_score' 'review_comment_title'\n",
      " 'review_comment_message' 'review_creation_date' 'review_answer_timestamp']\n",
      "['order_id' 'customer_id' 'order_status' 'order_purchase_timestamp'\n",
      " 'order_approved_at' 'order_delivered_carrier_date'\n",
      " 'order_delivered_customer_date' 'order_estimated_delivery_date']\n",
      "['seller_id' 'seller_zip_code_prefix' 'seller_city' 'seller_state']\n",
      "['product_category_name' 'product_category_name_english']\n"
     ]
    }
   ],
   "source": [
    "print(productos.columns.values)\n",
    "\n",
    "print(clientes.columns.values)\n",
    "\n",
    "print(ordenes_items.columns.values)\n",
    "\n",
    "print(pagos.columns.values)\n",
    "\n",
    "print(reseñas.columns.values)\n",
    "\n",
    "print(ordenes.columns.values)\n",
    "\n",
    "print(vendedores.columns.values)\n",
    "\n",
    "print(categorias.columns.values)"
   ]
  },
  {
   "cell_type": "code",
   "execution_count": 7,
   "id": "128a524f-5547-41d5-8042-89a0841b3a2f",
   "metadata": {},
   "outputs": [],
   "source": [
    "ventas = ordenes_itmes"
   ]
  },
  {
   "cell_type": "code",
   "execution_count": 8,
   "id": "00e6c836-5e5b-43a5-89d1-c2ac0d50eb7a",
   "metadata": {},
   "outputs": [
    {
     "data": {
      "text/html": [
       "<div>\n",
       "<style scoped>\n",
       "    .dataframe tbody tr th:only-of-type {\n",
       "        vertical-align: middle;\n",
       "    }\n",
       "\n",
       "    .dataframe tbody tr th {\n",
       "        vertical-align: top;\n",
       "    }\n",
       "\n",
       "    .dataframe thead th {\n",
       "        text-align: right;\n",
       "    }\n",
       "</style>\n",
       "<table border=\"1\" class=\"dataframe\">\n",
       "  <thead>\n",
       "    <tr style=\"text-align: right;\">\n",
       "      <th></th>\n",
       "      <th>order_id</th>\n",
       "      <th>order_item_id</th>\n",
       "      <th>product_id</th>\n",
       "      <th>seller_id</th>\n",
       "      <th>shipping_limit_date</th>\n",
       "      <th>price</th>\n",
       "      <th>freight_value</th>\n",
       "    </tr>\n",
       "  </thead>\n",
       "  <tbody>\n",
       "    <tr>\n",
       "      <th>0</th>\n",
       "      <td>00010242fe8c5a6d1ba2dd792cb16214</td>\n",
       "      <td>1</td>\n",
       "      <td>4244733e06e7ecb4970a6e2683c13e61</td>\n",
       "      <td>48436dade18ac8b2bce089ec2a041202</td>\n",
       "      <td>2017-09-19 09:45:35</td>\n",
       "      <td>58.90</td>\n",
       "      <td>13.29</td>\n",
       "    </tr>\n",
       "    <tr>\n",
       "      <th>1</th>\n",
       "      <td>00018f77f2f0320c557190d7a144bdd3</td>\n",
       "      <td>1</td>\n",
       "      <td>e5f2d52b802189ee658865ca93d83a8f</td>\n",
       "      <td>dd7ddc04e1b6c2c614352b383efe2d36</td>\n",
       "      <td>2017-05-03 11:05:13</td>\n",
       "      <td>239.90</td>\n",
       "      <td>19.93</td>\n",
       "    </tr>\n",
       "    <tr>\n",
       "      <th>2</th>\n",
       "      <td>000229ec398224ef6ca0657da4fc703e</td>\n",
       "      <td>1</td>\n",
       "      <td>c777355d18b72b67abbeef9df44fd0fd</td>\n",
       "      <td>5b51032eddd242adc84c38acab88f23d</td>\n",
       "      <td>2018-01-18 14:48:30</td>\n",
       "      <td>199.00</td>\n",
       "      <td>17.87</td>\n",
       "    </tr>\n",
       "    <tr>\n",
       "      <th>3</th>\n",
       "      <td>00024acbcdf0a6daa1e931b038114c75</td>\n",
       "      <td>1</td>\n",
       "      <td>7634da152a4610f1595efa32f14722fc</td>\n",
       "      <td>9d7a1d34a5052409006425275ba1c2b4</td>\n",
       "      <td>2018-08-15 10:10:18</td>\n",
       "      <td>12.99</td>\n",
       "      <td>12.79</td>\n",
       "    </tr>\n",
       "    <tr>\n",
       "      <th>4</th>\n",
       "      <td>00042b26cf59d7ce69dfabb4e55b4fd9</td>\n",
       "      <td>1</td>\n",
       "      <td>ac6c3623068f30de03045865e4e10089</td>\n",
       "      <td>df560393f3a51e74553ab94004ba5c87</td>\n",
       "      <td>2017-02-13 13:57:51</td>\n",
       "      <td>199.90</td>\n",
       "      <td>18.14</td>\n",
       "    </tr>\n",
       "  </tbody>\n",
       "</table>\n",
       "</div>"
      ],
      "text/plain": [
       "                           order_id  order_item_id  \\\n",
       "0  00010242fe8c5a6d1ba2dd792cb16214              1   \n",
       "1  00018f77f2f0320c557190d7a144bdd3              1   \n",
       "2  000229ec398224ef6ca0657da4fc703e              1   \n",
       "3  00024acbcdf0a6daa1e931b038114c75              1   \n",
       "4  00042b26cf59d7ce69dfabb4e55b4fd9              1   \n",
       "\n",
       "                         product_id                         seller_id  \\\n",
       "0  4244733e06e7ecb4970a6e2683c13e61  48436dade18ac8b2bce089ec2a041202   \n",
       "1  e5f2d52b802189ee658865ca93d83a8f  dd7ddc04e1b6c2c614352b383efe2d36   \n",
       "2  c777355d18b72b67abbeef9df44fd0fd  5b51032eddd242adc84c38acab88f23d   \n",
       "3  7634da152a4610f1595efa32f14722fc  9d7a1d34a5052409006425275ba1c2b4   \n",
       "4  ac6c3623068f30de03045865e4e10089  df560393f3a51e74553ab94004ba5c87   \n",
       "\n",
       "   shipping_limit_date   price  freight_value  \n",
       "0  2017-09-19 09:45:35   58.90          13.29  \n",
       "1  2017-05-03 11:05:13  239.90          19.93  \n",
       "2  2018-01-18 14:48:30  199.00          17.87  \n",
       "3  2018-08-15 10:10:18   12.99          12.79  \n",
       "4  2017-02-13 13:57:51  199.90          18.14  "
      ]
     },
     "execution_count": 8,
     "metadata": {},
     "output_type": "execute_result"
    }
   ],
   "source": [
    "ventas.head()"
   ]
  },
  {
   "cell_type": "code",
   "execution_count": 9,
   "id": "f5b37200-39e2-4a85-92d6-f14d54a673f3",
   "metadata": {},
   "outputs": [
    {
     "data": {
      "text/html": [
       "<div>\n",
       "<style scoped>\n",
       "    .dataframe tbody tr th:only-of-type {\n",
       "        vertical-align: middle;\n",
       "    }\n",
       "\n",
       "    .dataframe tbody tr th {\n",
       "        vertical-align: top;\n",
       "    }\n",
       "\n",
       "    .dataframe thead th {\n",
       "        text-align: right;\n",
       "    }\n",
       "</style>\n",
       "<table border=\"1\" class=\"dataframe\">\n",
       "  <thead>\n",
       "    <tr style=\"text-align: right;\">\n",
       "      <th></th>\n",
       "      <th>customer_id</th>\n",
       "      <th>customer_unique_id</th>\n",
       "      <th>customer_zip_code_prefix</th>\n",
       "      <th>customer_city</th>\n",
       "      <th>customer_state</th>\n",
       "    </tr>\n",
       "  </thead>\n",
       "  <tbody>\n",
       "    <tr>\n",
       "      <th>0</th>\n",
       "      <td>06b8999e2fba1a1fbc88172c00ba8bc7</td>\n",
       "      <td>861eff4711a542e4b93843c6dd7febb0</td>\n",
       "      <td>14409</td>\n",
       "      <td>franca</td>\n",
       "      <td>SP</td>\n",
       "    </tr>\n",
       "    <tr>\n",
       "      <th>1</th>\n",
       "      <td>18955e83d337fd6b2def6b18a428ac77</td>\n",
       "      <td>290c77bc529b7ac935b93aa66c333dc3</td>\n",
       "      <td>9790</td>\n",
       "      <td>sao bernardo do campo</td>\n",
       "      <td>SP</td>\n",
       "    </tr>\n",
       "    <tr>\n",
       "      <th>2</th>\n",
       "      <td>4e7b3e00288586ebd08712fdd0374a03</td>\n",
       "      <td>060e732b5b29e8181a18229c7b0b2b5e</td>\n",
       "      <td>1151</td>\n",
       "      <td>sao paulo</td>\n",
       "      <td>SP</td>\n",
       "    </tr>\n",
       "    <tr>\n",
       "      <th>3</th>\n",
       "      <td>b2b6027bc5c5109e529d4dc6358b12c3</td>\n",
       "      <td>259dac757896d24d7702b9acbbff3f3c</td>\n",
       "      <td>8775</td>\n",
       "      <td>mogi das cruzes</td>\n",
       "      <td>SP</td>\n",
       "    </tr>\n",
       "    <tr>\n",
       "      <th>4</th>\n",
       "      <td>4f2d8ab171c80ec8364f7c12e35b23ad</td>\n",
       "      <td>345ecd01c38d18a9036ed96c73b8d066</td>\n",
       "      <td>13056</td>\n",
       "      <td>campinas</td>\n",
       "      <td>SP</td>\n",
       "    </tr>\n",
       "  </tbody>\n",
       "</table>\n",
       "</div>"
      ],
      "text/plain": [
       "                        customer_id                customer_unique_id  \\\n",
       "0  06b8999e2fba1a1fbc88172c00ba8bc7  861eff4711a542e4b93843c6dd7febb0   \n",
       "1  18955e83d337fd6b2def6b18a428ac77  290c77bc529b7ac935b93aa66c333dc3   \n",
       "2  4e7b3e00288586ebd08712fdd0374a03  060e732b5b29e8181a18229c7b0b2b5e   \n",
       "3  b2b6027bc5c5109e529d4dc6358b12c3  259dac757896d24d7702b9acbbff3f3c   \n",
       "4  4f2d8ab171c80ec8364f7c12e35b23ad  345ecd01c38d18a9036ed96c73b8d066   \n",
       "\n",
       "   customer_zip_code_prefix          customer_city customer_state  \n",
       "0                     14409                 franca             SP  \n",
       "1                      9790  sao bernardo do campo             SP  \n",
       "2                      1151              sao paulo             SP  \n",
       "3                      8775        mogi das cruzes             SP  \n",
       "4                     13056               campinas             SP  "
      ]
     },
     "execution_count": 9,
     "metadata": {},
     "output_type": "execute_result"
    }
   ],
   "source": [
    "clientes.head()"
   ]
  },
  {
   "cell_type": "code",
   "execution_count": 10,
   "id": "5c2683d0-5385-4b82-ba3e-29b8de07a5b7",
   "metadata": {},
   "outputs": [
    {
     "data": {
      "text/html": [
       "<div>\n",
       "<style scoped>\n",
       "    .dataframe tbody tr th:only-of-type {\n",
       "        vertical-align: middle;\n",
       "    }\n",
       "\n",
       "    .dataframe tbody tr th {\n",
       "        vertical-align: top;\n",
       "    }\n",
       "\n",
       "    .dataframe thead th {\n",
       "        text-align: right;\n",
       "    }\n",
       "</style>\n",
       "<table border=\"1\" class=\"dataframe\">\n",
       "  <thead>\n",
       "    <tr style=\"text-align: right;\">\n",
       "      <th></th>\n",
       "      <th>product_id</th>\n",
       "      <th>product_category_name</th>\n",
       "      <th>product_name_lenght</th>\n",
       "      <th>product_description_lenght</th>\n",
       "      <th>product_photos_qty</th>\n",
       "      <th>product_weight_g</th>\n",
       "      <th>product_length_cm</th>\n",
       "      <th>product_height_cm</th>\n",
       "      <th>product_width_cm</th>\n",
       "    </tr>\n",
       "  </thead>\n",
       "  <tbody>\n",
       "    <tr>\n",
       "      <th>0</th>\n",
       "      <td>1e9e8ef04dbcff4541ed26657ea517e5</td>\n",
       "      <td>perfumaria</td>\n",
       "      <td>40.0</td>\n",
       "      <td>287.0</td>\n",
       "      <td>1.0</td>\n",
       "      <td>225.0</td>\n",
       "      <td>16.0</td>\n",
       "      <td>10.0</td>\n",
       "      <td>14.0</td>\n",
       "    </tr>\n",
       "    <tr>\n",
       "      <th>1</th>\n",
       "      <td>3aa071139cb16b67ca9e5dea641aaa2f</td>\n",
       "      <td>artes</td>\n",
       "      <td>44.0</td>\n",
       "      <td>276.0</td>\n",
       "      <td>1.0</td>\n",
       "      <td>1000.0</td>\n",
       "      <td>30.0</td>\n",
       "      <td>18.0</td>\n",
       "      <td>20.0</td>\n",
       "    </tr>\n",
       "    <tr>\n",
       "      <th>2</th>\n",
       "      <td>96bd76ec8810374ed1b65e291975717f</td>\n",
       "      <td>esporte_lazer</td>\n",
       "      <td>46.0</td>\n",
       "      <td>250.0</td>\n",
       "      <td>1.0</td>\n",
       "      <td>154.0</td>\n",
       "      <td>18.0</td>\n",
       "      <td>9.0</td>\n",
       "      <td>15.0</td>\n",
       "    </tr>\n",
       "    <tr>\n",
       "      <th>3</th>\n",
       "      <td>cef67bcfe19066a932b7673e239eb23d</td>\n",
       "      <td>bebes</td>\n",
       "      <td>27.0</td>\n",
       "      <td>261.0</td>\n",
       "      <td>1.0</td>\n",
       "      <td>371.0</td>\n",
       "      <td>26.0</td>\n",
       "      <td>4.0</td>\n",
       "      <td>26.0</td>\n",
       "    </tr>\n",
       "    <tr>\n",
       "      <th>4</th>\n",
       "      <td>9dc1a7de274444849c219cff195d0b71</td>\n",
       "      <td>utilidades_domesticas</td>\n",
       "      <td>37.0</td>\n",
       "      <td>402.0</td>\n",
       "      <td>4.0</td>\n",
       "      <td>625.0</td>\n",
       "      <td>20.0</td>\n",
       "      <td>17.0</td>\n",
       "      <td>13.0</td>\n",
       "    </tr>\n",
       "  </tbody>\n",
       "</table>\n",
       "</div>"
      ],
      "text/plain": [
       "                         product_id  product_category_name  \\\n",
       "0  1e9e8ef04dbcff4541ed26657ea517e5             perfumaria   \n",
       "1  3aa071139cb16b67ca9e5dea641aaa2f                  artes   \n",
       "2  96bd76ec8810374ed1b65e291975717f          esporte_lazer   \n",
       "3  cef67bcfe19066a932b7673e239eb23d                  bebes   \n",
       "4  9dc1a7de274444849c219cff195d0b71  utilidades_domesticas   \n",
       "\n",
       "   product_name_lenght  product_description_lenght  product_photos_qty  \\\n",
       "0                 40.0                       287.0                 1.0   \n",
       "1                 44.0                       276.0                 1.0   \n",
       "2                 46.0                       250.0                 1.0   \n",
       "3                 27.0                       261.0                 1.0   \n",
       "4                 37.0                       402.0                 4.0   \n",
       "\n",
       "   product_weight_g  product_length_cm  product_height_cm  product_width_cm  \n",
       "0             225.0               16.0               10.0              14.0  \n",
       "1            1000.0               30.0               18.0              20.0  \n",
       "2             154.0               18.0                9.0              15.0  \n",
       "3             371.0               26.0                4.0              26.0  \n",
       "4             625.0               20.0               17.0              13.0  "
      ]
     },
     "execution_count": 10,
     "metadata": {},
     "output_type": "execute_result"
    }
   ],
   "source": [
    "productos.head()"
   ]
  },
  {
   "cell_type": "code",
   "execution_count": 11,
   "id": "f00b1646-3cef-4bca-b5c7-eca8fa0cdadf",
   "metadata": {},
   "outputs": [
    {
     "data": {
      "text/html": [
       "<div>\n",
       "<style scoped>\n",
       "    .dataframe tbody tr th:only-of-type {\n",
       "        vertical-align: middle;\n",
       "    }\n",
       "\n",
       "    .dataframe tbody tr th {\n",
       "        vertical-align: top;\n",
       "    }\n",
       "\n",
       "    .dataframe thead th {\n",
       "        text-align: right;\n",
       "    }\n",
       "</style>\n",
       "<table border=\"1\" class=\"dataframe\">\n",
       "  <thead>\n",
       "    <tr style=\"text-align: right;\">\n",
       "      <th></th>\n",
       "      <th>product_category_name</th>\n",
       "      <th>product_category_name_english</th>\n",
       "    </tr>\n",
       "  </thead>\n",
       "  <tbody>\n",
       "    <tr>\n",
       "      <th>0</th>\n",
       "      <td>beleza_saude</td>\n",
       "      <td>health_beauty</td>\n",
       "    </tr>\n",
       "    <tr>\n",
       "      <th>1</th>\n",
       "      <td>informatica_acessorios</td>\n",
       "      <td>computers_accessories</td>\n",
       "    </tr>\n",
       "    <tr>\n",
       "      <th>2</th>\n",
       "      <td>automotivo</td>\n",
       "      <td>auto</td>\n",
       "    </tr>\n",
       "    <tr>\n",
       "      <th>3</th>\n",
       "      <td>cama_mesa_banho</td>\n",
       "      <td>bed_bath_table</td>\n",
       "    </tr>\n",
       "    <tr>\n",
       "      <th>4</th>\n",
       "      <td>moveis_decoracao</td>\n",
       "      <td>furniture_decor</td>\n",
       "    </tr>\n",
       "  </tbody>\n",
       "</table>\n",
       "</div>"
      ],
      "text/plain": [
       "    product_category_name product_category_name_english\n",
       "0            beleza_saude                 health_beauty\n",
       "1  informatica_acessorios         computers_accessories\n",
       "2              automotivo                          auto\n",
       "3         cama_mesa_banho                bed_bath_table\n",
       "4        moveis_decoracao               furniture_decor"
      ]
     },
     "execution_count": 11,
     "metadata": {},
     "output_type": "execute_result"
    }
   ],
   "source": [
    "categorias.head()"
   ]
  },
  {
   "cell_type": "code",
   "execution_count": 12,
   "id": "8a4166b7-403d-479c-b787-86ef73058553",
   "metadata": {},
   "outputs": [],
   "source": [
    "productos_1 = pd.merge(productos, categorias, on=\"product_category_name\", how=\"left\")"
   ]
  },
  {
   "cell_type": "code",
   "execution_count": 13,
   "id": "7d43fe4e-ab84-4880-9413-fa65190e9694",
   "metadata": {},
   "outputs": [
    {
     "data": {
      "text/plain": [
       "array(['product_id', 'product_category_name', 'product_name_lenght',\n",
       "       'product_description_lenght', 'product_photos_qty',\n",
       "       'product_weight_g', 'product_length_cm', 'product_height_cm',\n",
       "       'product_width_cm', 'product_category_name_english'], dtype=object)"
      ]
     },
     "execution_count": 13,
     "metadata": {},
     "output_type": "execute_result"
    }
   ],
   "source": [
    "productos_1.columns.values"
   ]
  },
  {
   "cell_type": "code",
   "execution_count": 14,
   "id": "58ffdc2f-1731-47e7-b83e-be26a345f1ed",
   "metadata": {},
   "outputs": [],
   "source": [
    "productos_final = productos_1[['product_id', 'product_category_name', 'product_category_name_english']]"
   ]
  },
  {
   "cell_type": "code",
   "execution_count": 15,
   "id": "f2e15bcd-7c08-4cee-82a8-cd87515a6cc4",
   "metadata": {},
   "outputs": [
    {
     "data": {
      "text/html": [
       "<div>\n",
       "<style scoped>\n",
       "    .dataframe tbody tr th:only-of-type {\n",
       "        vertical-align: middle;\n",
       "    }\n",
       "\n",
       "    .dataframe tbody tr th {\n",
       "        vertical-align: top;\n",
       "    }\n",
       "\n",
       "    .dataframe thead th {\n",
       "        text-align: right;\n",
       "    }\n",
       "</style>\n",
       "<table border=\"1\" class=\"dataframe\">\n",
       "  <thead>\n",
       "    <tr style=\"text-align: right;\">\n",
       "      <th></th>\n",
       "      <th>product_id</th>\n",
       "      <th>product_category_name</th>\n",
       "      <th>product_category_name_english</th>\n",
       "    </tr>\n",
       "  </thead>\n",
       "  <tbody>\n",
       "    <tr>\n",
       "      <th>0</th>\n",
       "      <td>1e9e8ef04dbcff4541ed26657ea517e5</td>\n",
       "      <td>perfumaria</td>\n",
       "      <td>perfumery</td>\n",
       "    </tr>\n",
       "    <tr>\n",
       "      <th>1</th>\n",
       "      <td>3aa071139cb16b67ca9e5dea641aaa2f</td>\n",
       "      <td>artes</td>\n",
       "      <td>art</td>\n",
       "    </tr>\n",
       "    <tr>\n",
       "      <th>2</th>\n",
       "      <td>96bd76ec8810374ed1b65e291975717f</td>\n",
       "      <td>esporte_lazer</td>\n",
       "      <td>sports_leisure</td>\n",
       "    </tr>\n",
       "    <tr>\n",
       "      <th>3</th>\n",
       "      <td>cef67bcfe19066a932b7673e239eb23d</td>\n",
       "      <td>bebes</td>\n",
       "      <td>baby</td>\n",
       "    </tr>\n",
       "    <tr>\n",
       "      <th>4</th>\n",
       "      <td>9dc1a7de274444849c219cff195d0b71</td>\n",
       "      <td>utilidades_domesticas</td>\n",
       "      <td>housewares</td>\n",
       "    </tr>\n",
       "  </tbody>\n",
       "</table>\n",
       "</div>"
      ],
      "text/plain": [
       "                         product_id  product_category_name  \\\n",
       "0  1e9e8ef04dbcff4541ed26657ea517e5             perfumaria   \n",
       "1  3aa071139cb16b67ca9e5dea641aaa2f                  artes   \n",
       "2  96bd76ec8810374ed1b65e291975717f          esporte_lazer   \n",
       "3  cef67bcfe19066a932b7673e239eb23d                  bebes   \n",
       "4  9dc1a7de274444849c219cff195d0b71  utilidades_domesticas   \n",
       "\n",
       "  product_category_name_english  \n",
       "0                     perfumery  \n",
       "1                           art  \n",
       "2                sports_leisure  \n",
       "3                          baby  \n",
       "4                    housewares  "
      ]
     },
     "execution_count": 15,
     "metadata": {},
     "output_type": "execute_result"
    }
   ],
   "source": [
    "productos_final.head()"
   ]
  },
  {
   "cell_type": "code",
   "execution_count": 16,
   "id": "20cc8846-5a0e-407a-b44b-dd18150ad8c2",
   "metadata": {},
   "outputs": [
    {
     "data": {
      "text/html": [
       "<div>\n",
       "<style scoped>\n",
       "    .dataframe tbody tr th:only-of-type {\n",
       "        vertical-align: middle;\n",
       "    }\n",
       "\n",
       "    .dataframe tbody tr th {\n",
       "        vertical-align: top;\n",
       "    }\n",
       "\n",
       "    .dataframe thead th {\n",
       "        text-align: right;\n",
       "    }\n",
       "</style>\n",
       "<table border=\"1\" class=\"dataframe\">\n",
       "  <thead>\n",
       "    <tr style=\"text-align: right;\">\n",
       "      <th></th>\n",
       "      <th>seller_id</th>\n",
       "      <th>seller_zip_code_prefix</th>\n",
       "      <th>seller_city</th>\n",
       "      <th>seller_state</th>\n",
       "    </tr>\n",
       "  </thead>\n",
       "  <tbody>\n",
       "    <tr>\n",
       "      <th>0</th>\n",
       "      <td>3442f8959a84dea7ee197c632cb2df15</td>\n",
       "      <td>13023</td>\n",
       "      <td>campinas</td>\n",
       "      <td>SP</td>\n",
       "    </tr>\n",
       "    <tr>\n",
       "      <th>1</th>\n",
       "      <td>d1b65fc7debc3361ea86b5f14c68d2e2</td>\n",
       "      <td>13844</td>\n",
       "      <td>mogi guacu</td>\n",
       "      <td>SP</td>\n",
       "    </tr>\n",
       "    <tr>\n",
       "      <th>2</th>\n",
       "      <td>ce3ad9de960102d0677a81f5d0bb7b2d</td>\n",
       "      <td>20031</td>\n",
       "      <td>rio de janeiro</td>\n",
       "      <td>RJ</td>\n",
       "    </tr>\n",
       "    <tr>\n",
       "      <th>3</th>\n",
       "      <td>c0f3eea2e14555b6faeea3dd58c1b1c3</td>\n",
       "      <td>4195</td>\n",
       "      <td>sao paulo</td>\n",
       "      <td>SP</td>\n",
       "    </tr>\n",
       "    <tr>\n",
       "      <th>4</th>\n",
       "      <td>51a04a8a6bdcb23deccc82b0b80742cf</td>\n",
       "      <td>12914</td>\n",
       "      <td>braganca paulista</td>\n",
       "      <td>SP</td>\n",
       "    </tr>\n",
       "  </tbody>\n",
       "</table>\n",
       "</div>"
      ],
      "text/plain": [
       "                          seller_id  seller_zip_code_prefix  \\\n",
       "0  3442f8959a84dea7ee197c632cb2df15                   13023   \n",
       "1  d1b65fc7debc3361ea86b5f14c68d2e2                   13844   \n",
       "2  ce3ad9de960102d0677a81f5d0bb7b2d                   20031   \n",
       "3  c0f3eea2e14555b6faeea3dd58c1b1c3                    4195   \n",
       "4  51a04a8a6bdcb23deccc82b0b80742cf                   12914   \n",
       "\n",
       "         seller_city seller_state  \n",
       "0           campinas           SP  \n",
       "1         mogi guacu           SP  \n",
       "2     rio de janeiro           RJ  \n",
       "3          sao paulo           SP  \n",
       "4  braganca paulista           SP  "
      ]
     },
     "execution_count": 16,
     "metadata": {},
     "output_type": "execute_result"
    }
   ],
   "source": [
    "vendedores.head()"
   ]
  },
  {
   "cell_type": "code",
   "execution_count": 17,
   "id": "9c946c0d-7feb-49bb-9133-b77ed66f5aea",
   "metadata": {},
   "outputs": [
    {
     "data": {
      "text/plain": [
       "array(['SP', 'RJ', 'PE', 'PR', 'GO', 'SC', 'BA', 'DF', 'RS', 'MG', 'RN',\n",
       "       'MT', 'CE', 'PB', 'AC', 'ES', 'RO', 'PI', 'MS', 'SE', 'MA', 'AM',\n",
       "       'PA'], dtype=object)"
      ]
     },
     "execution_count": 17,
     "metadata": {},
     "output_type": "execute_result"
    }
   ],
   "source": [
    "vendedores['seller_state'].unique()"
   ]
  },
  {
   "cell_type": "code",
   "execution_count": 18,
   "id": "3ce06b40-f817-4573-869f-b42038d45b4f",
   "metadata": {},
   "outputs": [
    {
     "data": {
      "text/html": [
       "<div>\n",
       "<style scoped>\n",
       "    .dataframe tbody tr th:only-of-type {\n",
       "        vertical-align: middle;\n",
       "    }\n",
       "\n",
       "    .dataframe tbody tr th {\n",
       "        vertical-align: top;\n",
       "    }\n",
       "\n",
       "    .dataframe thead th {\n",
       "        text-align: right;\n",
       "    }\n",
       "</style>\n",
       "<table border=\"1\" class=\"dataframe\">\n",
       "  <thead>\n",
       "    <tr style=\"text-align: right;\">\n",
       "      <th></th>\n",
       "      <th>order_id</th>\n",
       "      <th>payment_sequential</th>\n",
       "      <th>payment_type</th>\n",
       "      <th>payment_installments</th>\n",
       "      <th>payment_value</th>\n",
       "    </tr>\n",
       "  </thead>\n",
       "  <tbody>\n",
       "    <tr>\n",
       "      <th>0</th>\n",
       "      <td>b81ef226f3fe1789b1e8b2acac839d17</td>\n",
       "      <td>1</td>\n",
       "      <td>credit_card</td>\n",
       "      <td>8</td>\n",
       "      <td>99.33</td>\n",
       "    </tr>\n",
       "    <tr>\n",
       "      <th>1</th>\n",
       "      <td>a9810da82917af2d9aefd1278f1dcfa0</td>\n",
       "      <td>1</td>\n",
       "      <td>credit_card</td>\n",
       "      <td>1</td>\n",
       "      <td>24.39</td>\n",
       "    </tr>\n",
       "    <tr>\n",
       "      <th>2</th>\n",
       "      <td>25e8ea4e93396b6fa0d3dd708e76c1bd</td>\n",
       "      <td>1</td>\n",
       "      <td>credit_card</td>\n",
       "      <td>1</td>\n",
       "      <td>65.71</td>\n",
       "    </tr>\n",
       "    <tr>\n",
       "      <th>3</th>\n",
       "      <td>ba78997921bbcdc1373bb41e913ab953</td>\n",
       "      <td>1</td>\n",
       "      <td>credit_card</td>\n",
       "      <td>8</td>\n",
       "      <td>107.78</td>\n",
       "    </tr>\n",
       "    <tr>\n",
       "      <th>4</th>\n",
       "      <td>42fdf880ba16b47b59251dd489d4441a</td>\n",
       "      <td>1</td>\n",
       "      <td>credit_card</td>\n",
       "      <td>2</td>\n",
       "      <td>128.45</td>\n",
       "    </tr>\n",
       "  </tbody>\n",
       "</table>\n",
       "</div>"
      ],
      "text/plain": [
       "                           order_id  payment_sequential payment_type  \\\n",
       "0  b81ef226f3fe1789b1e8b2acac839d17                   1  credit_card   \n",
       "1  a9810da82917af2d9aefd1278f1dcfa0                   1  credit_card   \n",
       "2  25e8ea4e93396b6fa0d3dd708e76c1bd                   1  credit_card   \n",
       "3  ba78997921bbcdc1373bb41e913ab953                   1  credit_card   \n",
       "4  42fdf880ba16b47b59251dd489d4441a                   1  credit_card   \n",
       "\n",
       "   payment_installments  payment_value  \n",
       "0                     8          99.33  \n",
       "1                     1          24.39  \n",
       "2                     1          65.71  \n",
       "3                     8         107.78  \n",
       "4                     2         128.45  "
      ]
     },
     "execution_count": 18,
     "metadata": {},
     "output_type": "execute_result"
    }
   ],
   "source": [
    "pagos.head()"
   ]
  },
  {
   "cell_type": "code",
   "execution_count": 19,
   "id": "41c2cc83-08f1-4539-9c10-e20cf1cc2cb0",
   "metadata": {},
   "outputs": [],
   "source": [
    "pagos = pagos.drop(columns = 'payment_sequential')"
   ]
  },
  {
   "cell_type": "code",
   "execution_count": 20,
   "id": "96622cfb-87fd-4505-a130-86cf4f283128",
   "metadata": {},
   "outputs": [
    {
     "data": {
      "text/html": [
       "<div>\n",
       "<style scoped>\n",
       "    .dataframe tbody tr th:only-of-type {\n",
       "        vertical-align: middle;\n",
       "    }\n",
       "\n",
       "    .dataframe tbody tr th {\n",
       "        vertical-align: top;\n",
       "    }\n",
       "\n",
       "    .dataframe thead th {\n",
       "        text-align: right;\n",
       "    }\n",
       "</style>\n",
       "<table border=\"1\" class=\"dataframe\">\n",
       "  <thead>\n",
       "    <tr style=\"text-align: right;\">\n",
       "      <th></th>\n",
       "      <th>order_id</th>\n",
       "      <th>payment_type</th>\n",
       "      <th>payment_installments</th>\n",
       "      <th>payment_value</th>\n",
       "    </tr>\n",
       "  </thead>\n",
       "  <tbody>\n",
       "    <tr>\n",
       "      <th>0</th>\n",
       "      <td>b81ef226f3fe1789b1e8b2acac839d17</td>\n",
       "      <td>credit_card</td>\n",
       "      <td>8</td>\n",
       "      <td>99.33</td>\n",
       "    </tr>\n",
       "    <tr>\n",
       "      <th>1</th>\n",
       "      <td>a9810da82917af2d9aefd1278f1dcfa0</td>\n",
       "      <td>credit_card</td>\n",
       "      <td>1</td>\n",
       "      <td>24.39</td>\n",
       "    </tr>\n",
       "    <tr>\n",
       "      <th>2</th>\n",
       "      <td>25e8ea4e93396b6fa0d3dd708e76c1bd</td>\n",
       "      <td>credit_card</td>\n",
       "      <td>1</td>\n",
       "      <td>65.71</td>\n",
       "    </tr>\n",
       "    <tr>\n",
       "      <th>3</th>\n",
       "      <td>ba78997921bbcdc1373bb41e913ab953</td>\n",
       "      <td>credit_card</td>\n",
       "      <td>8</td>\n",
       "      <td>107.78</td>\n",
       "    </tr>\n",
       "    <tr>\n",
       "      <th>4</th>\n",
       "      <td>42fdf880ba16b47b59251dd489d4441a</td>\n",
       "      <td>credit_card</td>\n",
       "      <td>2</td>\n",
       "      <td>128.45</td>\n",
       "    </tr>\n",
       "  </tbody>\n",
       "</table>\n",
       "</div>"
      ],
      "text/plain": [
       "                           order_id payment_type  payment_installments  \\\n",
       "0  b81ef226f3fe1789b1e8b2acac839d17  credit_card                     8   \n",
       "1  a9810da82917af2d9aefd1278f1dcfa0  credit_card                     1   \n",
       "2  25e8ea4e93396b6fa0d3dd708e76c1bd  credit_card                     1   \n",
       "3  ba78997921bbcdc1373bb41e913ab953  credit_card                     8   \n",
       "4  42fdf880ba16b47b59251dd489d4441a  credit_card                     2   \n",
       "\n",
       "   payment_value  \n",
       "0          99.33  \n",
       "1          24.39  \n",
       "2          65.71  \n",
       "3         107.78  \n",
       "4         128.45  "
      ]
     },
     "execution_count": 20,
     "metadata": {},
     "output_type": "execute_result"
    }
   ],
   "source": [
    "pagos.head()"
   ]
  },
  {
   "cell_type": "code",
   "execution_count": 21,
   "id": "e72c7d39-9310-477e-9570-b3c768730b7b",
   "metadata": {},
   "outputs": [
    {
     "data": {
      "text/html": [
       "<div>\n",
       "<style scoped>\n",
       "    .dataframe tbody tr th:only-of-type {\n",
       "        vertical-align: middle;\n",
       "    }\n",
       "\n",
       "    .dataframe tbody tr th {\n",
       "        vertical-align: top;\n",
       "    }\n",
       "\n",
       "    .dataframe thead th {\n",
       "        text-align: right;\n",
       "    }\n",
       "</style>\n",
       "<table border=\"1\" class=\"dataframe\">\n",
       "  <thead>\n",
       "    <tr style=\"text-align: right;\">\n",
       "      <th></th>\n",
       "      <th>review_id</th>\n",
       "      <th>order_id</th>\n",
       "      <th>review_score</th>\n",
       "      <th>review_comment_title</th>\n",
       "      <th>review_comment_message</th>\n",
       "      <th>review_creation_date</th>\n",
       "      <th>review_answer_timestamp</th>\n",
       "    </tr>\n",
       "  </thead>\n",
       "  <tbody>\n",
       "    <tr>\n",
       "      <th>0</th>\n",
       "      <td>7bc2406110b926393aa56f80a40eba40</td>\n",
       "      <td>73fc7af87114b39712e6da79b0a377eb</td>\n",
       "      <td>4</td>\n",
       "      <td>NaN</td>\n",
       "      <td>NaN</td>\n",
       "      <td>2018-01-18 00:00:00</td>\n",
       "      <td>2018-01-18 21:46:59</td>\n",
       "    </tr>\n",
       "    <tr>\n",
       "      <th>1</th>\n",
       "      <td>80e641a11e56f04c1ad469d5645fdfde</td>\n",
       "      <td>a548910a1c6147796b98fdf73dbeba33</td>\n",
       "      <td>5</td>\n",
       "      <td>NaN</td>\n",
       "      <td>NaN</td>\n",
       "      <td>2018-03-10 00:00:00</td>\n",
       "      <td>2018-03-11 03:05:13</td>\n",
       "    </tr>\n",
       "    <tr>\n",
       "      <th>2</th>\n",
       "      <td>228ce5500dc1d8e020d8d1322874b6f0</td>\n",
       "      <td>f9e4b658b201a9f2ecdecbb34bed034b</td>\n",
       "      <td>5</td>\n",
       "      <td>NaN</td>\n",
       "      <td>NaN</td>\n",
       "      <td>2018-02-17 00:00:00</td>\n",
       "      <td>2018-02-18 14:36:24</td>\n",
       "    </tr>\n",
       "    <tr>\n",
       "      <th>3</th>\n",
       "      <td>e64fb393e7b32834bb789ff8bb30750e</td>\n",
       "      <td>658677c97b385a9be170737859d3511b</td>\n",
       "      <td>5</td>\n",
       "      <td>NaN</td>\n",
       "      <td>Recebi bem antes do prazo estipulado.</td>\n",
       "      <td>2017-04-21 00:00:00</td>\n",
       "      <td>2017-04-21 22:02:06</td>\n",
       "    </tr>\n",
       "    <tr>\n",
       "      <th>4</th>\n",
       "      <td>f7c4243c7fe1938f181bec41a392bdeb</td>\n",
       "      <td>8e6bfb81e283fa7e4f11123a3fb894f1</td>\n",
       "      <td>5</td>\n",
       "      <td>NaN</td>\n",
       "      <td>Parabéns lojas lannister adorei comprar pela I...</td>\n",
       "      <td>2018-03-01 00:00:00</td>\n",
       "      <td>2018-03-02 10:26:53</td>\n",
       "    </tr>\n",
       "  </tbody>\n",
       "</table>\n",
       "</div>"
      ],
      "text/plain": [
       "                          review_id                          order_id  \\\n",
       "0  7bc2406110b926393aa56f80a40eba40  73fc7af87114b39712e6da79b0a377eb   \n",
       "1  80e641a11e56f04c1ad469d5645fdfde  a548910a1c6147796b98fdf73dbeba33   \n",
       "2  228ce5500dc1d8e020d8d1322874b6f0  f9e4b658b201a9f2ecdecbb34bed034b   \n",
       "3  e64fb393e7b32834bb789ff8bb30750e  658677c97b385a9be170737859d3511b   \n",
       "4  f7c4243c7fe1938f181bec41a392bdeb  8e6bfb81e283fa7e4f11123a3fb894f1   \n",
       "\n",
       "   review_score review_comment_title  \\\n",
       "0             4                  NaN   \n",
       "1             5                  NaN   \n",
       "2             5                  NaN   \n",
       "3             5                  NaN   \n",
       "4             5                  NaN   \n",
       "\n",
       "                              review_comment_message review_creation_date  \\\n",
       "0                                                NaN  2018-01-18 00:00:00   \n",
       "1                                                NaN  2018-03-10 00:00:00   \n",
       "2                                                NaN  2018-02-17 00:00:00   \n",
       "3              Recebi bem antes do prazo estipulado.  2017-04-21 00:00:00   \n",
       "4  Parabéns lojas lannister adorei comprar pela I...  2018-03-01 00:00:00   \n",
       "\n",
       "  review_answer_timestamp  \n",
       "0     2018-01-18 21:46:59  \n",
       "1     2018-03-11 03:05:13  \n",
       "2     2018-02-18 14:36:24  \n",
       "3     2017-04-21 22:02:06  \n",
       "4     2018-03-02 10:26:53  "
      ]
     },
     "execution_count": 21,
     "metadata": {},
     "output_type": "execute_result"
    }
   ],
   "source": [
    "reseñas.head()"
   ]
  },
  {
   "cell_type": "code",
   "execution_count": 22,
   "id": "b93ce358-bb87-4373-bb3a-be90af231d1c",
   "metadata": {},
   "outputs": [],
   "source": [
    "reseñas = reseñas.drop(columns = 'review_id')"
   ]
  },
  {
   "cell_type": "code",
   "execution_count": 23,
   "id": "9182f31a-102d-42bb-9256-408c22d56e33",
   "metadata": {},
   "outputs": [
    {
     "data": {
      "text/html": [
       "<div>\n",
       "<style scoped>\n",
       "    .dataframe tbody tr th:only-of-type {\n",
       "        vertical-align: middle;\n",
       "    }\n",
       "\n",
       "    .dataframe tbody tr th {\n",
       "        vertical-align: top;\n",
       "    }\n",
       "\n",
       "    .dataframe thead th {\n",
       "        text-align: right;\n",
       "    }\n",
       "</style>\n",
       "<table border=\"1\" class=\"dataframe\">\n",
       "  <thead>\n",
       "    <tr style=\"text-align: right;\">\n",
       "      <th></th>\n",
       "      <th>order_id</th>\n",
       "      <th>review_score</th>\n",
       "      <th>review_comment_title</th>\n",
       "      <th>review_comment_message</th>\n",
       "      <th>review_creation_date</th>\n",
       "      <th>review_answer_timestamp</th>\n",
       "    </tr>\n",
       "  </thead>\n",
       "  <tbody>\n",
       "    <tr>\n",
       "      <th>0</th>\n",
       "      <td>73fc7af87114b39712e6da79b0a377eb</td>\n",
       "      <td>4</td>\n",
       "      <td>NaN</td>\n",
       "      <td>NaN</td>\n",
       "      <td>2018-01-18 00:00:00</td>\n",
       "      <td>2018-01-18 21:46:59</td>\n",
       "    </tr>\n",
       "    <tr>\n",
       "      <th>1</th>\n",
       "      <td>a548910a1c6147796b98fdf73dbeba33</td>\n",
       "      <td>5</td>\n",
       "      <td>NaN</td>\n",
       "      <td>NaN</td>\n",
       "      <td>2018-03-10 00:00:00</td>\n",
       "      <td>2018-03-11 03:05:13</td>\n",
       "    </tr>\n",
       "    <tr>\n",
       "      <th>2</th>\n",
       "      <td>f9e4b658b201a9f2ecdecbb34bed034b</td>\n",
       "      <td>5</td>\n",
       "      <td>NaN</td>\n",
       "      <td>NaN</td>\n",
       "      <td>2018-02-17 00:00:00</td>\n",
       "      <td>2018-02-18 14:36:24</td>\n",
       "    </tr>\n",
       "    <tr>\n",
       "      <th>3</th>\n",
       "      <td>658677c97b385a9be170737859d3511b</td>\n",
       "      <td>5</td>\n",
       "      <td>NaN</td>\n",
       "      <td>Recebi bem antes do prazo estipulado.</td>\n",
       "      <td>2017-04-21 00:00:00</td>\n",
       "      <td>2017-04-21 22:02:06</td>\n",
       "    </tr>\n",
       "    <tr>\n",
       "      <th>4</th>\n",
       "      <td>8e6bfb81e283fa7e4f11123a3fb894f1</td>\n",
       "      <td>5</td>\n",
       "      <td>NaN</td>\n",
       "      <td>Parabéns lojas lannister adorei comprar pela I...</td>\n",
       "      <td>2018-03-01 00:00:00</td>\n",
       "      <td>2018-03-02 10:26:53</td>\n",
       "    </tr>\n",
       "  </tbody>\n",
       "</table>\n",
       "</div>"
      ],
      "text/plain": [
       "                           order_id  review_score review_comment_title  \\\n",
       "0  73fc7af87114b39712e6da79b0a377eb             4                  NaN   \n",
       "1  a548910a1c6147796b98fdf73dbeba33             5                  NaN   \n",
       "2  f9e4b658b201a9f2ecdecbb34bed034b             5                  NaN   \n",
       "3  658677c97b385a9be170737859d3511b             5                  NaN   \n",
       "4  8e6bfb81e283fa7e4f11123a3fb894f1             5                  NaN   \n",
       "\n",
       "                              review_comment_message review_creation_date  \\\n",
       "0                                                NaN  2018-01-18 00:00:00   \n",
       "1                                                NaN  2018-03-10 00:00:00   \n",
       "2                                                NaN  2018-02-17 00:00:00   \n",
       "3              Recebi bem antes do prazo estipulado.  2017-04-21 00:00:00   \n",
       "4  Parabéns lojas lannister adorei comprar pela I...  2018-03-01 00:00:00   \n",
       "\n",
       "  review_answer_timestamp  \n",
       "0     2018-01-18 21:46:59  \n",
       "1     2018-03-11 03:05:13  \n",
       "2     2018-02-18 14:36:24  \n",
       "3     2017-04-21 22:02:06  \n",
       "4     2018-03-02 10:26:53  "
      ]
     },
     "execution_count": 23,
     "metadata": {},
     "output_type": "execute_result"
    }
   ],
   "source": [
    "reseñas.head()"
   ]
  },
  {
   "cell_type": "code",
   "execution_count": 24,
   "id": "dec217a9-4ecc-4a06-b127-d908dc34afae",
   "metadata": {},
   "outputs": [],
   "source": [
    "productos = productos_final"
   ]
  },
  {
   "cell_type": "markdown",
   "id": "9c907c7b-8cec-45da-8f2f-6a2c29b89f4c",
   "metadata": {},
   "source": [
    "## Vamos a realizar una exploracion de los datos para revisar su calidad."
   ]
  },
  {
   "cell_type": "code",
   "execution_count": 25,
   "id": "b7d84848-3453-4455-b6cb-dd74276c2179",
   "metadata": {},
   "outputs": [
    {
     "name": "stdout",
     "output_type": "stream",
     "text": [
      "\n",
      "PRODUCTOS - Filas: 32951 Columnas: 3\n",
      "\n",
      "CLIENTES - Filas: 99441 Columnas: 5\n",
      "\n",
      "VENTAS - Filas: 112650 Columnas: 7\n",
      "\n",
      "PAGOS - Filas: 103886 Columnas: 4\n",
      "\n",
      "RESEÑAS - Filas: 99224 Columnas: 6\n",
      "\n",
      "ORDENES - Filas: 99441 Columnas: 8\n",
      "\n",
      "VENDEDORES - Filas: 3095 Columnas: 4\n",
      "\n",
      "CATEGORIAS - Filas: 71 Columnas: 2\n"
     ]
    }
   ],
   "source": [
    "# Vision general de los datos\n",
    "\n",
    "for df, name in [(productos, \"productos\"), (clientes, \"clientes\"),\n",
    "                 (ventas, \"ventas\"), (pagos, \"pagos\"),\n",
    "                 (reseñas, \"reseñas\"), (ordenes, \"ordenes\"), \n",
    "                 (vendedores, \"vendedores\"), (categorias, \"categorias\")]:\n",
    "    print(f\"\\n{name.upper()} - Filas: {df.shape[0]} Columnas: {df.shape[1]}\")\n"
   ]
  },
  {
   "cell_type": "code",
   "execution_count": 26,
   "id": "6bcfeae2-5b40-40e5-b6fe-d870e34bd6cb",
   "metadata": {},
   "outputs": [
    {
     "name": "stdout",
     "output_type": "stream",
     "text": [
      "<class 'pandas.core.frame.DataFrame'>\n",
      "RangeIndex: 112650 entries, 0 to 112649\n",
      "Data columns (total 7 columns):\n",
      " #   Column               Non-Null Count   Dtype  \n",
      "---  ------               --------------   -----  \n",
      " 0   order_id             112650 non-null  object \n",
      " 1   order_item_id        112650 non-null  int64  \n",
      " 2   product_id           112650 non-null  object \n",
      " 3   seller_id            112650 non-null  object \n",
      " 4   shipping_limit_date  112650 non-null  object \n",
      " 5   price                112650 non-null  float64\n",
      " 6   freight_value        112650 non-null  float64\n",
      "dtypes: float64(2), int64(1), object(4)\n",
      "memory usage: 6.0+ MB\n"
     ]
    }
   ],
   "source": [
    "ventas.info()"
   ]
  },
  {
   "cell_type": "code",
   "execution_count": 27,
   "id": "b10bd6f1-8a60-45bd-8e4b-c953f3a22136",
   "metadata": {},
   "outputs": [
    {
     "name": "stdout",
     "output_type": "stream",
     "text": [
      "<class 'pandas.core.frame.DataFrame'>\n",
      "RangeIndex: 99441 entries, 0 to 99440\n",
      "Data columns (total 5 columns):\n",
      " #   Column                    Non-Null Count  Dtype \n",
      "---  ------                    --------------  ----- \n",
      " 0   customer_id               99441 non-null  object\n",
      " 1   customer_unique_id        99441 non-null  object\n",
      " 2   customer_zip_code_prefix  99441 non-null  int64 \n",
      " 3   customer_city             99441 non-null  object\n",
      " 4   customer_state            99441 non-null  object\n",
      "dtypes: int64(1), object(4)\n",
      "memory usage: 3.8+ MB\n"
     ]
    }
   ],
   "source": [
    "clientes.info()"
   ]
  },
  {
   "cell_type": "code",
   "execution_count": 28,
   "id": "ef5d222c-17b4-4005-b0d3-44f650dd5d6f",
   "metadata": {},
   "outputs": [
    {
     "name": "stdout",
     "output_type": "stream",
     "text": [
      "<class 'pandas.core.frame.DataFrame'>\n",
      "RangeIndex: 32951 entries, 0 to 32950\n",
      "Data columns (total 3 columns):\n",
      " #   Column                         Non-Null Count  Dtype \n",
      "---  ------                         --------------  ----- \n",
      " 0   product_id                     32951 non-null  object\n",
      " 1   product_category_name          32341 non-null  object\n",
      " 2   product_category_name_english  32328 non-null  object\n",
      "dtypes: object(3)\n",
      "memory usage: 772.4+ KB\n"
     ]
    }
   ],
   "source": [
    "productos.info()"
   ]
  },
  {
   "cell_type": "code",
   "execution_count": 29,
   "id": "aa692b81-7f5b-4f0f-8b29-bb5f1bd2bfe4",
   "metadata": {},
   "outputs": [
    {
     "name": "stdout",
     "output_type": "stream",
     "text": [
      "<class 'pandas.core.frame.DataFrame'>\n",
      "RangeIndex: 3095 entries, 0 to 3094\n",
      "Data columns (total 4 columns):\n",
      " #   Column                  Non-Null Count  Dtype \n",
      "---  ------                  --------------  ----- \n",
      " 0   seller_id               3095 non-null   object\n",
      " 1   seller_zip_code_prefix  3095 non-null   int64 \n",
      " 2   seller_city             3095 non-null   object\n",
      " 3   seller_state            3095 non-null   object\n",
      "dtypes: int64(1), object(3)\n",
      "memory usage: 96.8+ KB\n"
     ]
    }
   ],
   "source": [
    "vendedores.info()"
   ]
  },
  {
   "cell_type": "code",
   "execution_count": 30,
   "id": "cf812faa-8330-4b4e-ae2d-9f4bb5f9ed75",
   "metadata": {},
   "outputs": [
    {
     "name": "stdout",
     "output_type": "stream",
     "text": [
      "<class 'pandas.core.frame.DataFrame'>\n",
      "RangeIndex: 99441 entries, 0 to 99440\n",
      "Data columns (total 8 columns):\n",
      " #   Column                         Non-Null Count  Dtype \n",
      "---  ------                         --------------  ----- \n",
      " 0   order_id                       99441 non-null  object\n",
      " 1   customer_id                    99441 non-null  object\n",
      " 2   order_status                   99441 non-null  object\n",
      " 3   order_purchase_timestamp       99441 non-null  object\n",
      " 4   order_approved_at              99281 non-null  object\n",
      " 5   order_delivered_carrier_date   97658 non-null  object\n",
      " 6   order_delivered_customer_date  96476 non-null  object\n",
      " 7   order_estimated_delivery_date  99441 non-null  object\n",
      "dtypes: object(8)\n",
      "memory usage: 6.1+ MB\n"
     ]
    }
   ],
   "source": [
    "ordenes.info()"
   ]
  },
  {
   "cell_type": "code",
   "execution_count": 31,
   "id": "7f0648c2-aca7-49f6-84a4-0f900378819a",
   "metadata": {},
   "outputs": [
    {
     "name": "stdout",
     "output_type": "stream",
     "text": [
      "<class 'pandas.core.frame.DataFrame'>\n",
      "RangeIndex: 103886 entries, 0 to 103885\n",
      "Data columns (total 4 columns):\n",
      " #   Column                Non-Null Count   Dtype  \n",
      "---  ------                --------------   -----  \n",
      " 0   order_id              103886 non-null  object \n",
      " 1   payment_type          103886 non-null  object \n",
      " 2   payment_installments  103886 non-null  int64  \n",
      " 3   payment_value         103886 non-null  float64\n",
      "dtypes: float64(1), int64(1), object(2)\n",
      "memory usage: 3.2+ MB\n"
     ]
    }
   ],
   "source": [
    "pagos.info()"
   ]
  },
  {
   "cell_type": "code",
   "execution_count": 32,
   "id": "61ddc12e-bf22-4636-ac95-c4892d643ebc",
   "metadata": {},
   "outputs": [
    {
     "name": "stdout",
     "output_type": "stream",
     "text": [
      "<class 'pandas.core.frame.DataFrame'>\n",
      "RangeIndex: 99224 entries, 0 to 99223\n",
      "Data columns (total 6 columns):\n",
      " #   Column                   Non-Null Count  Dtype \n",
      "---  ------                   --------------  ----- \n",
      " 0   order_id                 99224 non-null  object\n",
      " 1   review_score             99224 non-null  int64 \n",
      " 2   review_comment_title     11568 non-null  object\n",
      " 3   review_comment_message   40977 non-null  object\n",
      " 4   review_creation_date     99224 non-null  object\n",
      " 5   review_answer_timestamp  99224 non-null  object\n",
      "dtypes: int64(1), object(5)\n",
      "memory usage: 4.5+ MB\n"
     ]
    }
   ],
   "source": [
    "reseñas.info()"
   ]
  },
  {
   "cell_type": "code",
   "execution_count": 33,
   "id": "d14d013a-5f81-42f9-99f6-26abe0457e6b",
   "metadata": {},
   "outputs": [
    {
     "name": "stdout",
     "output_type": "stream",
     "text": [
      "\n",
      "PRODUCTOS - Nulos:\n",
      "product_id                         0\n",
      "product_category_name            610\n",
      "product_category_name_english    623\n",
      "dtype: int64\n",
      "\n",
      "CLIENTES - Nulos:\n",
      "customer_id                 0\n",
      "customer_unique_id          0\n",
      "customer_zip_code_prefix    0\n",
      "customer_city               0\n",
      "customer_state              0\n",
      "dtype: int64\n",
      "\n",
      "VENTAS - Nulos:\n",
      "order_id               0\n",
      "order_item_id          0\n",
      "product_id             0\n",
      "seller_id              0\n",
      "shipping_limit_date    0\n",
      "price                  0\n",
      "freight_value          0\n",
      "dtype: int64\n",
      "\n",
      "PAGOS - Nulos:\n",
      "order_id                0\n",
      "payment_type            0\n",
      "payment_installments    0\n",
      "payment_value           0\n",
      "dtype: int64\n",
      "\n",
      "RESEÑAS - Nulos:\n",
      "order_id                       0\n",
      "review_score                   0\n",
      "review_comment_title       87656\n",
      "review_comment_message     58247\n",
      "review_creation_date           0\n",
      "review_answer_timestamp        0\n",
      "dtype: int64\n",
      "\n",
      "ORDENES - Nulos:\n",
      "order_id                            0\n",
      "customer_id                         0\n",
      "order_status                        0\n",
      "order_purchase_timestamp            0\n",
      "order_approved_at                 160\n",
      "order_delivered_carrier_date     1783\n",
      "order_delivered_customer_date    2965\n",
      "order_estimated_delivery_date       0\n",
      "dtype: int64\n",
      "\n",
      "VENDEDORES - Nulos:\n",
      "seller_id                 0\n",
      "seller_zip_code_prefix    0\n",
      "seller_city               0\n",
      "seller_state              0\n",
      "dtype: int64\n",
      "\n",
      "CATEGORIAS - Nulos:\n",
      "product_category_name            0\n",
      "product_category_name_english    0\n",
      "dtype: int64\n"
     ]
    }
   ],
   "source": [
    "# Verificamos valores nulos\n",
    "\n",
    "for df, name in [(productos, \"productos\"), (clientes, \"clientes\"),\n",
    "                 (ventas, \"ventas\"), (pagos, \"pagos\"),\n",
    "                 (reseñas, \"reseñas\"), (ordenes, \"ordenes\"), \n",
    "                 (vendedores, \"vendedores\"), (categorias, \"categorias\")]:\n",
    "    print(f\"\\n{name.upper()} - Nulos:\")\n",
    "    print(df.isnull().sum())"
   ]
  },
  {
   "cell_type": "code",
   "execution_count": 34,
   "id": "a550ffb8-3951-4185-836f-f4302a37345b",
   "metadata": {},
   "outputs": [
    {
     "data": {
      "text/plain": [
       "(32951, 3)"
      ]
     },
     "execution_count": 34,
     "metadata": {},
     "output_type": "execute_result"
    }
   ],
   "source": [
    "productos.shape"
   ]
  },
  {
   "cell_type": "code",
   "execution_count": 35,
   "id": "963df4bb-ade9-435e-b56b-bba9b51c0107",
   "metadata": {},
   "outputs": [
    {
     "data": {
      "text/plain": [
       "product_id                       0.000000\n",
       "product_category_name            1.851234\n",
       "product_category_name_english    1.890686\n",
       "dtype: float64"
      ]
     },
     "execution_count": 35,
     "metadata": {},
     "output_type": "execute_result"
    }
   ],
   "source": [
    "# Analizamos los nulos en productos\n",
    "nulos_porcentaje = (productos.isnull().sum() / len(productos)) * 100\n",
    "\n",
    "nulos_porcentaje\n",
    "\n",
    "# Vemos que los nulos en cada columna corresponde al 1,9% aproximadamente."
   ]
  },
  {
   "cell_type": "code",
   "execution_count": 36,
   "id": "f925d171-f544-4264-9a77-ef305101cfe5",
   "metadata": {},
   "outputs": [
    {
     "data": {
      "text/plain": [
       "product_category_name\n",
       "cama_mesa_banho                  3029\n",
       "esporte_lazer                    2867\n",
       "moveis_decoracao                 2657\n",
       "beleza_saude                     2444\n",
       "utilidades_domesticas            2335\n",
       "                                 ... \n",
       "fashion_roupa_infanto_juvenil       5\n",
       "casa_conforto_2                     5\n",
       "pc_gamer                            3\n",
       "seguros_e_servicos                  2\n",
       "cds_dvds_musicais                   1\n",
       "Name: count, Length: 73, dtype: int64"
      ]
     },
     "execution_count": 36,
     "metadata": {},
     "output_type": "execute_result"
    }
   ],
   "source": [
    "# Analizamos si es mejor elminiar las filas al ser un porcentaje tan bajo o utilizar la moda.\n",
    "\n",
    "productos['product_category_name'].value_counts()"
   ]
  },
  {
   "cell_type": "code",
   "execution_count": 37,
   "id": "0b687549-1270-4185-b653-24d888298376",
   "metadata": {},
   "outputs": [
    {
     "data": {
      "text/plain": [
       "product_category_name_english\n",
       "bed_bath_table               3029\n",
       "sports_leisure               2867\n",
       "furniture_decor              2657\n",
       "health_beauty                2444\n",
       "housewares                   2335\n",
       "                             ... \n",
       "tablets_printing_image          9\n",
       "fashion_childrens_clothes       5\n",
       "home_comfort_2                  5\n",
       "security_and_services           2\n",
       "cds_dvds_musicals               1\n",
       "Name: count, Length: 71, dtype: int64"
      ]
     },
     "execution_count": 37,
     "metadata": {},
     "output_type": "execute_result"
    }
   ],
   "source": [
    "productos['product_category_name_english'].value_counts()"
   ]
  },
  {
   "cell_type": "code",
   "execution_count": 38,
   "id": "acb4e9e6-9d2c-43bd-ad4f-2362588ec1be",
   "metadata": {},
   "outputs": [],
   "source": [
    "# No vemos ninguna categoria muy dominante (>75%), por lo cual no creemos que la moda sea la mejor opcion.\n",
    "# Procedemos a eliminar las filas\n",
    "\n",
    "productos = productos.dropna()"
   ]
  },
  {
   "cell_type": "code",
   "execution_count": 39,
   "id": "5cfd9fbb-8261-4e07-9fe3-2731dee6c4c9",
   "metadata": {},
   "outputs": [
    {
     "data": {
      "text/plain": [
       "product_id                       0\n",
       "product_category_name            0\n",
       "product_category_name_english    0\n",
       "dtype: int64"
      ]
     },
     "execution_count": 39,
     "metadata": {},
     "output_type": "execute_result"
    }
   ],
   "source": [
    "productos.isnull().sum()"
   ]
  },
  {
   "cell_type": "code",
   "execution_count": 140,
   "id": "980c049b",
   "metadata": {},
   "outputs": [
    {
     "data": {
      "text/plain": [
       "array(['product_id', 'product_category_name', 'product_name_lenght',\n",
       "       'product_description_lenght', 'product_photos_qty',\n",
       "       'product_weight_g', 'product_length_cm', 'product_height_cm',\n",
       "       'product_width_cm'], dtype=object)"
      ]
     },
     "execution_count": 140,
     "metadata": {},
     "output_type": "execute_result"
    }
   ],
   "source": [
    "# Vemos que la tabla de \"productos\" no tienen columna que indique el precio de venta y el costo de cada producto.\n",
    "\n",
    "productos.columns.values"
   ]
  },
  {
   "cell_type": "code",
   "execution_count": 146,
   "id": "e126c01e",
   "metadata": {},
   "outputs": [
    {
     "data": {
      "text/plain": [
       "array(['order_id', 'order_item_id', 'product_id', 'seller_id',\n",
       "       'shipping_limit_date', 'price', 'freight_value'], dtype=object)"
      ]
     },
     "execution_count": 146,
     "metadata": {},
     "output_type": "execute_result"
    }
   ],
   "source": [
    "ordenes_items.columns.values\n",
    "\n",
    "# Vemos que el precio de venta de los prodcutos se encuentra en la tabla \"ordenes_items\" "
   ]
  },
  {
   "cell_type": "code",
   "execution_count": 187,
   "id": "d2984e65",
   "metadata": {},
   "outputs": [
    {
     "data": {
      "text/html": [
       "<div>\n",
       "<style scoped>\n",
       "    .dataframe tbody tr th:only-of-type {\n",
       "        vertical-align: middle;\n",
       "    }\n",
       "\n",
       "    .dataframe tbody tr th {\n",
       "        vertical-align: top;\n",
       "    }\n",
       "\n",
       "    .dataframe thead th {\n",
       "        text-align: right;\n",
       "    }\n",
       "</style>\n",
       "<table border=\"1\" class=\"dataframe\">\n",
       "  <thead>\n",
       "    <tr style=\"text-align: right;\">\n",
       "      <th></th>\n",
       "      <th>product_id</th>\n",
       "      <th>Precio Venta Promedio</th>\n",
       "    </tr>\n",
       "  </thead>\n",
       "  <tbody>\n",
       "    <tr>\n",
       "      <th>0</th>\n",
       "      <td>00066f42aeeb9f3007548bb9d3f33c38</td>\n",
       "      <td>101.65</td>\n",
       "    </tr>\n",
       "    <tr>\n",
       "      <th>1</th>\n",
       "      <td>00088930e925c41fd95ebfe695fd2655</td>\n",
       "      <td>129.90</td>\n",
       "    </tr>\n",
       "    <tr>\n",
       "      <th>2</th>\n",
       "      <td>0009406fd7479715e4bef61dd91f2462</td>\n",
       "      <td>229.00</td>\n",
       "    </tr>\n",
       "    <tr>\n",
       "      <th>3</th>\n",
       "      <td>000b8f95fcb9e0096488278317764d19</td>\n",
       "      <td>58.90</td>\n",
       "    </tr>\n",
       "    <tr>\n",
       "      <th>4</th>\n",
       "      <td>000d9be29b5207b54e86aa1b1ac54872</td>\n",
       "      <td>199.00</td>\n",
       "    </tr>\n",
       "  </tbody>\n",
       "</table>\n",
       "</div>"
      ],
      "text/plain": [
       "                         product_id  Precio Venta Promedio\n",
       "0  00066f42aeeb9f3007548bb9d3f33c38                 101.65\n",
       "1  00088930e925c41fd95ebfe695fd2655                 129.90\n",
       "2  0009406fd7479715e4bef61dd91f2462                 229.00\n",
       "3  000b8f95fcb9e0096488278317764d19                  58.90\n",
       "4  000d9be29b5207b54e86aa1b1ac54872                 199.00"
      ]
     },
     "execution_count": 187,
     "metadata": {},
     "output_type": "execute_result"
    }
   ],
   "source": [
    "# Vamos a calcular el precio_promedio_producto ahora te da el precio de venta de cada producto (asumiendo que se han podido vender a distintos precios).\n",
    "\n",
    "precio_promedio_producto = ordenes_items.groupby('product_id')['price'].mean().round(2).reset_index()\n",
    "\n",
    "precio_promedio_producto.rename(columns={'price': 'Precio Venta Promedio'}, inplace=True)\n",
    "\n",
    "precio_promedio_producto.head()\n"
   ]
  },
  {
   "cell_type": "code",
   "execution_count": 188,
   "id": "bd7f8885",
   "metadata": {},
   "outputs": [
    {
     "data": {
      "text/plain": [
       "product_id               0\n",
       "Precio Venta Promedio    0\n",
       "dtype: int64"
      ]
     },
     "execution_count": 188,
     "metadata": {},
     "output_type": "execute_result"
    }
   ],
   "source": [
    "precio_promedio_producto.isnull().sum()"
   ]
  },
  {
   "cell_type": "code",
   "execution_count": 189,
   "id": "74b3f205",
   "metadata": {},
   "outputs": [
    {
     "data": {
      "text/html": [
       "<div>\n",
       "<style scoped>\n",
       "    .dataframe tbody tr th:only-of-type {\n",
       "        vertical-align: middle;\n",
       "    }\n",
       "\n",
       "    .dataframe tbody tr th {\n",
       "        vertical-align: top;\n",
       "    }\n",
       "\n",
       "    .dataframe thead th {\n",
       "        text-align: right;\n",
       "    }\n",
       "</style>\n",
       "<table border=\"1\" class=\"dataframe\">\n",
       "  <thead>\n",
       "    <tr style=\"text-align: right;\">\n",
       "      <th></th>\n",
       "      <th>product_id</th>\n",
       "      <th>Precio Venta Promedio</th>\n",
       "      <th>Costo Producto</th>\n",
       "    </tr>\n",
       "  </thead>\n",
       "  <tbody>\n",
       "    <tr>\n",
       "      <th>0</th>\n",
       "      <td>00066f42aeeb9f3007548bb9d3f33c38</td>\n",
       "      <td>101.65</td>\n",
       "      <td>60.99</td>\n",
       "    </tr>\n",
       "    <tr>\n",
       "      <th>1</th>\n",
       "      <td>00088930e925c41fd95ebfe695fd2655</td>\n",
       "      <td>129.90</td>\n",
       "      <td>77.94</td>\n",
       "    </tr>\n",
       "    <tr>\n",
       "      <th>2</th>\n",
       "      <td>0009406fd7479715e4bef61dd91f2462</td>\n",
       "      <td>229.00</td>\n",
       "      <td>137.40</td>\n",
       "    </tr>\n",
       "    <tr>\n",
       "      <th>3</th>\n",
       "      <td>000b8f95fcb9e0096488278317764d19</td>\n",
       "      <td>58.90</td>\n",
       "      <td>35.34</td>\n",
       "    </tr>\n",
       "    <tr>\n",
       "      <th>4</th>\n",
       "      <td>000d9be29b5207b54e86aa1b1ac54872</td>\n",
       "      <td>199.00</td>\n",
       "      <td>119.40</td>\n",
       "    </tr>\n",
       "  </tbody>\n",
       "</table>\n",
       "</div>"
      ],
      "text/plain": [
       "                         product_id  Precio Venta Promedio  Costo Producto\n",
       "0  00066f42aeeb9f3007548bb9d3f33c38                 101.65           60.99\n",
       "1  00088930e925c41fd95ebfe695fd2655                 129.90           77.94\n",
       "2  0009406fd7479715e4bef61dd91f2462                 229.00          137.40\n",
       "3  000b8f95fcb9e0096488278317764d19                  58.90           35.34\n",
       "4  000d9be29b5207b54e86aa1b1ac54872                 199.00          119.40"
      ]
     },
     "execution_count": 189,
     "metadata": {},
     "output_type": "execute_result"
    }
   ],
   "source": [
    "# Dado que el costo real es desconocido, se utiliza un Costo de Venta Fijo (60% del precio).\n",
    "\n",
    "precio_promedio_producto['Costo Producto'] = (precio_promedio_producto['Precio Venta Promedio'] * 0.60).round(2)\n",
    "\n",
    "precio_promedio_producto.head()"
   ]
  },
  {
   "cell_type": "code",
   "execution_count": 192,
   "id": "e147737d",
   "metadata": {},
   "outputs": [
    {
     "data": {
      "text/plain": [
       "product_id               0\n",
       "Precio Venta Promedio    0\n",
       "Costo Producto           0\n",
       "dtype: int64"
      ]
     },
     "execution_count": 192,
     "metadata": {},
     "output_type": "execute_result"
    }
   ],
   "source": [
    "precio_promedio_producto.isnull().sum()"
   ]
  },
  {
   "cell_type": "code",
   "execution_count": 190,
   "id": "cce25ee4",
   "metadata": {},
   "outputs": [
    {
     "data": {
      "text/html": [
       "<div>\n",
       "<style scoped>\n",
       "    .dataframe tbody tr th:only-of-type {\n",
       "        vertical-align: middle;\n",
       "    }\n",
       "\n",
       "    .dataframe tbody tr th {\n",
       "        vertical-align: top;\n",
       "    }\n",
       "\n",
       "    .dataframe thead th {\n",
       "        text-align: right;\n",
       "    }\n",
       "</style>\n",
       "<table border=\"1\" class=\"dataframe\">\n",
       "  <thead>\n",
       "    <tr style=\"text-align: right;\">\n",
       "      <th></th>\n",
       "      <th>product_id</th>\n",
       "      <th>product_category_name</th>\n",
       "      <th>product_name_lenght</th>\n",
       "      <th>product_description_lenght</th>\n",
       "      <th>product_photos_qty</th>\n",
       "      <th>product_weight_g</th>\n",
       "      <th>product_length_cm</th>\n",
       "      <th>product_height_cm</th>\n",
       "      <th>product_width_cm</th>\n",
       "      <th>Precio Venta Promedio</th>\n",
       "      <th>Costo Producto</th>\n",
       "    </tr>\n",
       "  </thead>\n",
       "  <tbody>\n",
       "    <tr>\n",
       "      <th>0</th>\n",
       "      <td>1e9e8ef04dbcff4541ed26657ea517e5</td>\n",
       "      <td>perfumaria</td>\n",
       "      <td>40.0</td>\n",
       "      <td>287.0</td>\n",
       "      <td>1.0</td>\n",
       "      <td>225.0</td>\n",
       "      <td>16.0</td>\n",
       "      <td>10.0</td>\n",
       "      <td>14.0</td>\n",
       "      <td>10.91</td>\n",
       "      <td>6.55</td>\n",
       "    </tr>\n",
       "    <tr>\n",
       "      <th>1</th>\n",
       "      <td>3aa071139cb16b67ca9e5dea641aaa2f</td>\n",
       "      <td>artes</td>\n",
       "      <td>44.0</td>\n",
       "      <td>276.0</td>\n",
       "      <td>1.0</td>\n",
       "      <td>1000.0</td>\n",
       "      <td>30.0</td>\n",
       "      <td>18.0</td>\n",
       "      <td>20.0</td>\n",
       "      <td>248.00</td>\n",
       "      <td>148.80</td>\n",
       "    </tr>\n",
       "    <tr>\n",
       "      <th>2</th>\n",
       "      <td>96bd76ec8810374ed1b65e291975717f</td>\n",
       "      <td>esporte_lazer</td>\n",
       "      <td>46.0</td>\n",
       "      <td>250.0</td>\n",
       "      <td>1.0</td>\n",
       "      <td>154.0</td>\n",
       "      <td>18.0</td>\n",
       "      <td>9.0</td>\n",
       "      <td>15.0</td>\n",
       "      <td>79.80</td>\n",
       "      <td>47.88</td>\n",
       "    </tr>\n",
       "    <tr>\n",
       "      <th>3</th>\n",
       "      <td>cef67bcfe19066a932b7673e239eb23d</td>\n",
       "      <td>bebes</td>\n",
       "      <td>27.0</td>\n",
       "      <td>261.0</td>\n",
       "      <td>1.0</td>\n",
       "      <td>371.0</td>\n",
       "      <td>26.0</td>\n",
       "      <td>4.0</td>\n",
       "      <td>26.0</td>\n",
       "      <td>112.30</td>\n",
       "      <td>67.38</td>\n",
       "    </tr>\n",
       "    <tr>\n",
       "      <th>4</th>\n",
       "      <td>9dc1a7de274444849c219cff195d0b71</td>\n",
       "      <td>utilidades_domesticas</td>\n",
       "      <td>37.0</td>\n",
       "      <td>402.0</td>\n",
       "      <td>4.0</td>\n",
       "      <td>625.0</td>\n",
       "      <td>20.0</td>\n",
       "      <td>17.0</td>\n",
       "      <td>13.0</td>\n",
       "      <td>37.90</td>\n",
       "      <td>22.74</td>\n",
       "    </tr>\n",
       "  </tbody>\n",
       "</table>\n",
       "</div>"
      ],
      "text/plain": [
       "                         product_id  product_category_name  \\\n",
       "0  1e9e8ef04dbcff4541ed26657ea517e5             perfumaria   \n",
       "1  3aa071139cb16b67ca9e5dea641aaa2f                  artes   \n",
       "2  96bd76ec8810374ed1b65e291975717f          esporte_lazer   \n",
       "3  cef67bcfe19066a932b7673e239eb23d                  bebes   \n",
       "4  9dc1a7de274444849c219cff195d0b71  utilidades_domesticas   \n",
       "\n",
       "   product_name_lenght  product_description_lenght  product_photos_qty  \\\n",
       "0                 40.0                       287.0                 1.0   \n",
       "1                 44.0                       276.0                 1.0   \n",
       "2                 46.0                       250.0                 1.0   \n",
       "3                 27.0                       261.0                 1.0   \n",
       "4                 37.0                       402.0                 4.0   \n",
       "\n",
       "   product_weight_g  product_length_cm  product_height_cm  product_width_cm  \\\n",
       "0             225.0               16.0               10.0              14.0   \n",
       "1            1000.0               30.0               18.0              20.0   \n",
       "2             154.0               18.0                9.0              15.0   \n",
       "3             371.0               26.0                4.0              26.0   \n",
       "4             625.0               20.0               17.0              13.0   \n",
       "\n",
       "   Precio Venta Promedio  Costo Producto  \n",
       "0                  10.91            6.55  \n",
       "1                 248.00          148.80  \n",
       "2                  79.80           47.88  \n",
       "3                 112.30           67.38  \n",
       "4                  37.90           22.74  "
      ]
     },
     "execution_count": 190,
     "metadata": {},
     "output_type": "execute_result"
    }
   ],
   "source": [
    "productos = pd.merge(productos, precio_promedio_producto, how='left' , on='product_id')\n",
    "\n",
    "productos.head()"
   ]
  },
  {
   "cell_type": "code",
   "execution_count": 198,
   "id": "af49586a",
   "metadata": {},
   "outputs": [
    {
     "data": {
      "text/html": [
       "<div>\n",
       "<style scoped>\n",
       "    .dataframe tbody tr th:only-of-type {\n",
       "        vertical-align: middle;\n",
       "    }\n",
       "\n",
       "    .dataframe tbody tr th {\n",
       "        vertical-align: top;\n",
       "    }\n",
       "\n",
       "    .dataframe thead th {\n",
       "        text-align: right;\n",
       "    }\n",
       "</style>\n",
       "<table border=\"1\" class=\"dataframe\">\n",
       "  <thead>\n",
       "    <tr style=\"text-align: right;\">\n",
       "      <th></th>\n",
       "      <th>product_id</th>\n",
       "      <th>Precio Venta Promedio</th>\n",
       "      <th>Costo Producto</th>\n",
       "    </tr>\n",
       "  </thead>\n",
       "  <tbody>\n",
       "    <tr>\n",
       "      <th>8628</th>\n",
       "      <td>4244733e06e7ecb4970a6e2683c13e61</td>\n",
       "      <td>59.23</td>\n",
       "      <td>35.54</td>\n",
       "    </tr>\n",
       "  </tbody>\n",
       "</table>\n",
       "</div>"
      ],
      "text/plain": [
       "                            product_id  Precio Venta Promedio  Costo Producto\n",
       "8628  4244733e06e7ecb4970a6e2683c13e61                  59.23           35.54"
      ]
     },
     "execution_count": 198,
     "metadata": {},
     "output_type": "execute_result"
    }
   ],
   "source": [
    "\n",
    "precio_promedio_producto[precio_promedio_producto['product_id'] == '4244733e06e7ecb4970a6e2683c13e61'].head()\n",
    "\n"
   ]
  },
  {
   "cell_type": "code",
   "execution_count": 40,
   "id": "78f26504-1458-4153-872a-debaf2c4e2fd",
   "metadata": {},
   "outputs": [
    {
     "data": {
      "text/plain": [
       "order_id                    0.000000\n",
       "review_score                0.000000\n",
       "review_comment_title       88.341530\n",
       "review_comment_message     58.702532\n",
       "review_creation_date        0.000000\n",
       "review_answer_timestamp     0.000000\n",
       "dtype: float64"
      ]
     },
     "execution_count": 40,
     "metadata": {},
     "output_type": "execute_result"
    }
   ],
   "source": [
    "# Analizamos los nulos en reseñas\n",
    "\n",
    "reseñas_nulos_porcentaje = (reseñas.isnull().sum() / len(reseñas)) * 100\n",
    "\n",
    "reseñas_nulos_porcentaje"
   ]
  },
  {
   "cell_type": "code",
   "execution_count": 41,
   "id": "0d048898-0d2a-45ac-8a53-926110acff3f",
   "metadata": {},
   "outputs": [],
   "source": [
    "# En este caso al ser porcentajes tan altos vamos a reemplazar los nulos con: \"Sin Título\" y \"Sin Comentario\".\n",
    "\n",
    "reseñas['review_comment_title'] = reseñas['review_comment_title'].fillna('Sin título')\n",
    "reseñas['review_comment_message'] = reseñas['review_comment_message'].fillna('Sin Comentario')"
   ]
  },
  {
   "cell_type": "code",
   "execution_count": 42,
   "id": "a103e703-9ed5-4b1f-9b9f-c44651334179",
   "metadata": {},
   "outputs": [
    {
     "data": {
      "text/plain": [
       "order_id                   0\n",
       "review_score               0\n",
       "review_comment_title       0\n",
       "review_comment_message     0\n",
       "review_creation_date       0\n",
       "review_answer_timestamp    0\n",
       "dtype: int64"
      ]
     },
     "execution_count": 42,
     "metadata": {},
     "output_type": "execute_result"
    }
   ],
   "source": [
    "reseñas.isnull().sum()"
   ]
  },
  {
   "cell_type": "code",
   "execution_count": 43,
   "id": "de73f41b-9685-4d2a-aa35-8c7d3cdb485e",
   "metadata": {},
   "outputs": [
    {
     "data": {
      "text/plain": [
       "order_id                         0.000000\n",
       "customer_id                      0.000000\n",
       "order_status                     0.000000\n",
       "order_purchase_timestamp         0.000000\n",
       "order_approved_at                0.160899\n",
       "order_delivered_carrier_date     1.793023\n",
       "order_delivered_customer_date    2.981668\n",
       "order_estimated_delivery_date    0.000000\n",
       "dtype: float64"
      ]
     },
     "execution_count": 43,
     "metadata": {},
     "output_type": "execute_result"
    }
   ],
   "source": [
    "# Analizamos los nulos en productos\n",
    "ordenes_nulos_porcentaje = (ordenes.isnull().sum() / len(ordenes)) * 100\n",
    "\n",
    "ordenes_nulos_porcentaje\n"
   ]
  },
  {
   "cell_type": "code",
   "execution_count": 44,
   "id": "0aaaca51-ff8c-4b77-907b-826f6a71ffac",
   "metadata": {},
   "outputs": [],
   "source": [
    "# Los valores de datos faltantes son muy bajos (< 3%) por lo cual eliminaremos las filas.\n",
    "# En este caso tampoco tiene sentido tratar de utilizar un estadistico ya que son valores de fechas.\n",
    "\n",
    "ordenes = ordenes.dropna()"
   ]
  },
  {
   "cell_type": "code",
   "execution_count": 45,
   "id": "72c9120b-bc02-439b-858e-93e3fd9ff855",
   "metadata": {},
   "outputs": [
    {
     "data": {
      "text/plain": [
       "order_id                         0\n",
       "customer_id                      0\n",
       "order_status                     0\n",
       "order_purchase_timestamp         0\n",
       "order_approved_at                0\n",
       "order_delivered_carrier_date     0\n",
       "order_delivered_customer_date    0\n",
       "order_estimated_delivery_date    0\n",
       "dtype: int64"
      ]
     },
     "execution_count": 45,
     "metadata": {},
     "output_type": "execute_result"
    }
   ],
   "source": [
    "ordenes.isnull().sum()"
   ]
  },
  {
   "cell_type": "code",
   "execution_count": 46,
   "id": "597446b8-6411-4fc5-887b-7b4d002c4b3e",
   "metadata": {},
   "outputs": [
    {
     "name": "stdout",
     "output_type": "stream",
     "text": [
      "productos: 0 duplicados\n",
      "clientes: 0 duplicados\n",
      "ventas: 0 duplicados\n",
      "ordenes: 0 duplicados\n"
     ]
    }
   ],
   "source": [
    "# Verificamos valores duplicados\n",
    "\n",
    "for df, name in [(productos, \"productos\"), (clientes, \"clientes\"), (ventas, \"ventas\"), (ordenes, \"ordenes\")]:\n",
    "    print(f\"{name}: {df.duplicated().sum()} duplicados\")"
   ]
  },
  {
   "cell_type": "code",
   "execution_count": 47,
   "id": "442090fa-9d26-4b5c-bb1c-8b049d19a0e8",
   "metadata": {},
   "outputs": [
    {
     "name": "stdout",
     "output_type": "stream",
     "text": [
      "Productos no encontrados: 1627\n"
     ]
    }
   ],
   "source": [
    "# Verificamos que esten los id claves para poder relacionar las tablas\n",
    "\n",
    "missing_products = ventas[~ventas[\"product_id\"].isin(productos[\"product_id\"])]\n",
    "print(\"Productos no encontrados:\", missing_products.shape[0])"
   ]
  },
  {
   "cell_type": "markdown",
   "id": "5e298ac8-b24b-484f-8aac-a1a72338e972",
   "metadata": {},
   "source": [
    "##### Vemos que hay 1.627 productos no encontrados, por lo cual entendemos que las filas que borramos de procutos afectaron a la itegridad y calidad de los datos por lo cual vamos a recuperar las filas y reemplazar con la moda."
   ]
  },
  {
   "cell_type": "code",
   "execution_count": 48,
   "id": "17c3f805-b75d-4087-8c3f-245ff97012f8",
   "metadata": {},
   "outputs": [
    {
     "data": {
      "text/plain": [
       "(32328, 3)"
      ]
     },
     "execution_count": 48,
     "metadata": {},
     "output_type": "execute_result"
    }
   ],
   "source": [
    "productos.shape"
   ]
  },
  {
   "cell_type": "code",
   "execution_count": 49,
   "id": "eadf1f35-206e-4641-b9ad-5f9577b69b93",
   "metadata": {},
   "outputs": [
    {
     "data": {
      "text/plain": [
       "(32951, 3)"
      ]
     },
     "execution_count": 49,
     "metadata": {},
     "output_type": "execute_result"
    }
   ],
   "source": [
    "productos_final.shape"
   ]
  },
  {
   "cell_type": "code",
   "execution_count": 50,
   "id": "17a312c9-bacb-4040-ad2e-1c6860a2bbaa",
   "metadata": {},
   "outputs": [
    {
     "data": {
      "text/html": [
       "<div>\n",
       "<style scoped>\n",
       "    .dataframe tbody tr th:only-of-type {\n",
       "        vertical-align: middle;\n",
       "    }\n",
       "\n",
       "    .dataframe tbody tr th {\n",
       "        vertical-align: top;\n",
       "    }\n",
       "\n",
       "    .dataframe thead th {\n",
       "        text-align: right;\n",
       "    }\n",
       "</style>\n",
       "<table border=\"1\" class=\"dataframe\">\n",
       "  <thead>\n",
       "    <tr style=\"text-align: right;\">\n",
       "      <th></th>\n",
       "      <th>product_id</th>\n",
       "      <th>product_category_name</th>\n",
       "      <th>product_category_name_english</th>\n",
       "    </tr>\n",
       "  </thead>\n",
       "  <tbody>\n",
       "    <tr>\n",
       "      <th>0</th>\n",
       "      <td>1e9e8ef04dbcff4541ed26657ea517e5</td>\n",
       "      <td>perfumaria</td>\n",
       "      <td>perfumery</td>\n",
       "    </tr>\n",
       "    <tr>\n",
       "      <th>1</th>\n",
       "      <td>3aa071139cb16b67ca9e5dea641aaa2f</td>\n",
       "      <td>artes</td>\n",
       "      <td>art</td>\n",
       "    </tr>\n",
       "    <tr>\n",
       "      <th>2</th>\n",
       "      <td>96bd76ec8810374ed1b65e291975717f</td>\n",
       "      <td>esporte_lazer</td>\n",
       "      <td>sports_leisure</td>\n",
       "    </tr>\n",
       "    <tr>\n",
       "      <th>3</th>\n",
       "      <td>cef67bcfe19066a932b7673e239eb23d</td>\n",
       "      <td>bebes</td>\n",
       "      <td>baby</td>\n",
       "    </tr>\n",
       "    <tr>\n",
       "      <th>4</th>\n",
       "      <td>9dc1a7de274444849c219cff195d0b71</td>\n",
       "      <td>utilidades_domesticas</td>\n",
       "      <td>housewares</td>\n",
       "    </tr>\n",
       "  </tbody>\n",
       "</table>\n",
       "</div>"
      ],
      "text/plain": [
       "                         product_id  product_category_name  \\\n",
       "0  1e9e8ef04dbcff4541ed26657ea517e5             perfumaria   \n",
       "1  3aa071139cb16b67ca9e5dea641aaa2f                  artes   \n",
       "2  96bd76ec8810374ed1b65e291975717f          esporte_lazer   \n",
       "3  cef67bcfe19066a932b7673e239eb23d                  bebes   \n",
       "4  9dc1a7de274444849c219cff195d0b71  utilidades_domesticas   \n",
       "\n",
       "  product_category_name_english  \n",
       "0                     perfumery  \n",
       "1                           art  \n",
       "2                sports_leisure  \n",
       "3                          baby  \n",
       "4                    housewares  "
      ]
     },
     "execution_count": 50,
     "metadata": {},
     "output_type": "execute_result"
    }
   ],
   "source": [
    "productos_final.head()"
   ]
  },
  {
   "cell_type": "code",
   "execution_count": 51,
   "id": "442ffed1-093f-405a-8a96-631d4929db6e",
   "metadata": {},
   "outputs": [
    {
     "data": {
      "text/plain": [
       "(32951, 3)"
      ]
     },
     "execution_count": 51,
     "metadata": {},
     "output_type": "execute_result"
    }
   ],
   "source": [
    "productos_2 = productos_final\n",
    "\n",
    "productos_2.shape"
   ]
  },
  {
   "cell_type": "code",
   "execution_count": 52,
   "id": "5296f927-286d-4cae-84fb-a0cd14ab217b",
   "metadata": {},
   "outputs": [
    {
     "name": "stdout",
     "output_type": "stream",
     "text": [
      "cama_mesa_banho\n",
      "bed_bath_table\n"
     ]
    }
   ],
   "source": [
    "moda_1 = productos_2['product_category_name'].mode()[0]\n",
    "\n",
    "moda_2 = productos_2['product_category_name_english'].mode()[0]\n",
    "\n",
    "print(moda_1)\n",
    "print(moda_2)"
   ]
  },
  {
   "cell_type": "code",
   "execution_count": 53,
   "id": "2905aa19-0552-452f-9893-ddf812b305e3",
   "metadata": {},
   "outputs": [
    {
     "name": "stderr",
     "output_type": "stream",
     "text": [
      "C:\\Users\\nicol\\AppData\\Local\\Temp\\ipykernel_32440\\3164095720.py:1: SettingWithCopyWarning: \n",
      "A value is trying to be set on a copy of a slice from a DataFrame.\n",
      "Try using .loc[row_indexer,col_indexer] = value instead\n",
      "\n",
      "See the caveats in the documentation: https://pandas.pydata.org/pandas-docs/stable/user_guide/indexing.html#returning-a-view-versus-a-copy\n",
      "  productos_2['product_category_name'] = productos_2['product_category_name'].fillna(moda_1)\n",
      "C:\\Users\\nicol\\AppData\\Local\\Temp\\ipykernel_32440\\3164095720.py:3: SettingWithCopyWarning: \n",
      "A value is trying to be set on a copy of a slice from a DataFrame.\n",
      "Try using .loc[row_indexer,col_indexer] = value instead\n",
      "\n",
      "See the caveats in the documentation: https://pandas.pydata.org/pandas-docs/stable/user_guide/indexing.html#returning-a-view-versus-a-copy\n",
      "  productos_2['product_category_name_english'] = productos_2['product_category_name_english'].fillna(moda_2)\n"
     ]
    }
   ],
   "source": [
    "productos_2['product_category_name'] = productos_2['product_category_name'].fillna(moda_1)\n",
    "\n",
    "productos_2['product_category_name_english'] = productos_2['product_category_name_english'].fillna(moda_2)"
   ]
  },
  {
   "cell_type": "code",
   "execution_count": 54,
   "id": "d00360b6-8073-4a83-b731-184543b5b9c7",
   "metadata": {},
   "outputs": [
    {
     "data": {
      "text/plain": [
       "product_id                       0\n",
       "product_category_name            0\n",
       "product_category_name_english    0\n",
       "dtype: int64"
      ]
     },
     "execution_count": 54,
     "metadata": {},
     "output_type": "execute_result"
    }
   ],
   "source": [
    "productos_2.isnull().sum()"
   ]
  },
  {
   "cell_type": "code",
   "execution_count": 55,
   "id": "a89636bc-1640-46e3-9eb5-c8f644e47148",
   "metadata": {},
   "outputs": [
    {
     "data": {
      "text/html": [
       "<div>\n",
       "<style scoped>\n",
       "    .dataframe tbody tr th:only-of-type {\n",
       "        vertical-align: middle;\n",
       "    }\n",
       "\n",
       "    .dataframe tbody tr th {\n",
       "        vertical-align: top;\n",
       "    }\n",
       "\n",
       "    .dataframe thead th {\n",
       "        text-align: right;\n",
       "    }\n",
       "</style>\n",
       "<table border=\"1\" class=\"dataframe\">\n",
       "  <thead>\n",
       "    <tr style=\"text-align: right;\">\n",
       "      <th></th>\n",
       "      <th>price</th>\n",
       "      <th>freight_value</th>\n",
       "    </tr>\n",
       "  </thead>\n",
       "  <tbody>\n",
       "    <tr>\n",
       "      <th>count</th>\n",
       "      <td>112650.000000</td>\n",
       "      <td>112650.000000</td>\n",
       "    </tr>\n",
       "    <tr>\n",
       "      <th>mean</th>\n",
       "      <td>120.653739</td>\n",
       "      <td>19.990320</td>\n",
       "    </tr>\n",
       "    <tr>\n",
       "      <th>std</th>\n",
       "      <td>183.633928</td>\n",
       "      <td>15.806405</td>\n",
       "    </tr>\n",
       "    <tr>\n",
       "      <th>min</th>\n",
       "      <td>0.850000</td>\n",
       "      <td>0.000000</td>\n",
       "    </tr>\n",
       "    <tr>\n",
       "      <th>25%</th>\n",
       "      <td>39.900000</td>\n",
       "      <td>13.080000</td>\n",
       "    </tr>\n",
       "    <tr>\n",
       "      <th>50%</th>\n",
       "      <td>74.990000</td>\n",
       "      <td>16.260000</td>\n",
       "    </tr>\n",
       "    <tr>\n",
       "      <th>75%</th>\n",
       "      <td>134.900000</td>\n",
       "      <td>21.150000</td>\n",
       "    </tr>\n",
       "    <tr>\n",
       "      <th>max</th>\n",
       "      <td>6735.000000</td>\n",
       "      <td>409.680000</td>\n",
       "    </tr>\n",
       "  </tbody>\n",
       "</table>\n",
       "</div>"
      ],
      "text/plain": [
       "               price  freight_value\n",
       "count  112650.000000  112650.000000\n",
       "mean      120.653739      19.990320\n",
       "std       183.633928      15.806405\n",
       "min         0.850000       0.000000\n",
       "25%        39.900000      13.080000\n",
       "50%        74.990000      16.260000\n",
       "75%       134.900000      21.150000\n",
       "max      6735.000000     409.680000"
      ]
     },
     "execution_count": 55,
     "metadata": {},
     "output_type": "execute_result"
    }
   ],
   "source": [
    "# Analisis general del precio y costo de flete\n",
    "\n",
    "ventas[[\"price\", \"freight_value\"]].describe()\n"
   ]
  },
  {
   "cell_type": "code",
   "execution_count": 56,
   "id": "3572edcc-c921-43bd-9b31-5870f485442a",
   "metadata": {},
   "outputs": [
    {
     "name": "stdout",
     "output_type": "stream",
     "text": [
      "payment_type\n",
      "credit_card    76795\n",
      "boleto         19784\n",
      "voucher         5775\n",
      "debit_card      1529\n",
      "not_defined        3\n",
      "Name: count, dtype: int64\n",
      "order_status\n",
      "delivered    96455\n",
      "canceled         6\n",
      "Name: count, dtype: int64\n",
      "product_category_name\n",
      "cama_mesa_banho           3639\n",
      "esporte_lazer             2867\n",
      "moveis_decoracao          2657\n",
      "beleza_saude              2444\n",
      "utilidades_domesticas     2335\n",
      "automotivo                1900\n",
      "informatica_acessorios    1639\n",
      "brinquedos                1411\n",
      "relogios_presentes        1329\n",
      "telefonia                 1134\n",
      "Name: count, dtype: int64\n"
     ]
    }
   ],
   "source": [
    "# Analisis general de variables categóricas\n",
    "\n",
    "print(pagos[\"payment_type\"].value_counts())\n",
    "print(ordenes[\"order_status\"].value_counts())\n",
    "print(productos_2[\"product_category_name\"].value_counts().head(10))"
   ]
  },
  {
   "cell_type": "code",
   "execution_count": 57,
   "id": "40811a8c-b8bd-40f6-90e1-fe91040b6faa",
   "metadata": {},
   "outputs": [
    {
     "data": {
      "text/plain": [
       "array(['order_id', 'customer_id', 'order_status',\n",
       "       'order_purchase_timestamp', 'order_approved_at',\n",
       "       'order_delivered_carrier_date', 'order_delivered_customer_date',\n",
       "       'order_estimated_delivery_date'], dtype=object)"
      ]
     },
     "execution_count": 57,
     "metadata": {},
     "output_type": "execute_result"
    }
   ],
   "source": [
    "ordenes.columns.values"
   ]
  },
  {
   "cell_type": "code",
   "execution_count": 58,
   "id": "f9379a8c-68b7-4e64-8159-49f1bcfab90c",
   "metadata": {},
   "outputs": [],
   "source": [
    "# Analisis de fechas\n",
    "\n",
    "ordenes[\"order_purchase_timestamp\"] = pd.to_datetime(ordenes[\"order_purchase_timestamp\"])\n",
    "ordenes[\"order_delivered_customer_date\"] = pd.to_datetime(ordenes[\"order_delivered_customer_date\"])\n",
    "ordenes[\"order_delivered_carrier_date\"] = pd.to_datetime(ordenes[\"order_delivered_carrier_date\"])\n",
    "ordenes[\"order_estimated_delivery_date\"] = pd.to_datetime(ordenes[\"order_estimated_delivery_date\"])"
   ]
  },
  {
   "cell_type": "code",
   "execution_count": 59,
   "id": "884b3eea-2064-48d0-8180-1265bf616532",
   "metadata": {},
   "outputs": [],
   "source": [
    "ordenes['año'] = ordenes['order_purchase_timestamp'].dt.year\n",
    "ordenes['mes'] = ordenes['order_purchase_timestamp'].dt.month"
   ]
  },
  {
   "cell_type": "code",
   "execution_count": 60,
   "id": "2823b079-cae6-4898-8205-958fe0a2b7aa",
   "metadata": {},
   "outputs": [
    {
     "name": "stdout",
     "output_type": "stream",
     "text": [
      "count    96461.000000\n",
      "mean        12.093582\n",
      "std          9.551576\n",
      "min          0.000000\n",
      "25%          6.000000\n",
      "50%         10.000000\n",
      "75%         15.000000\n",
      "max        209.000000\n",
      "Name: dias_entrega, dtype: float64\n"
     ]
    }
   ],
   "source": [
    "# Calculamos cantidad de dias de entrega y hacemos analisis general\n",
    "\n",
    "ordenes[\"dias_entrega\"] = (ordenes[\"order_delivered_customer_date\"] - ordenes[\"order_purchase_timestamp\"]).dt.days\n",
    "print(ordenes[\"dias_entrega\"].describe())"
   ]
  },
  {
   "cell_type": "code",
   "execution_count": 61,
   "id": "6cbd3f76-afa9-4336-b6d2-086c387eef25",
   "metadata": {},
   "outputs": [
    {
     "data": {
      "text/html": [
       "<div>\n",
       "<style scoped>\n",
       "    .dataframe tbody tr th:only-of-type {\n",
       "        vertical-align: middle;\n",
       "    }\n",
       "\n",
       "    .dataframe tbody tr th {\n",
       "        vertical-align: top;\n",
       "    }\n",
       "\n",
       "    .dataframe thead th {\n",
       "        text-align: right;\n",
       "    }\n",
       "</style>\n",
       "<table border=\"1\" class=\"dataframe\">\n",
       "  <thead>\n",
       "    <tr style=\"text-align: right;\">\n",
       "      <th></th>\n",
       "      <th>order_id</th>\n",
       "      <th>customer_id</th>\n",
       "      <th>order_status</th>\n",
       "      <th>order_purchase_timestamp</th>\n",
       "      <th>order_approved_at</th>\n",
       "      <th>order_delivered_carrier_date</th>\n",
       "      <th>order_delivered_customer_date</th>\n",
       "      <th>order_estimated_delivery_date</th>\n",
       "      <th>año</th>\n",
       "      <th>mes</th>\n",
       "      <th>dias_entrega</th>\n",
       "    </tr>\n",
       "  </thead>\n",
       "  <tbody>\n",
       "    <tr>\n",
       "      <th>0</th>\n",
       "      <td>e481f51cbdc54678b7cc49136f2d6af7</td>\n",
       "      <td>9ef432eb6251297304e76186b10a928d</td>\n",
       "      <td>delivered</td>\n",
       "      <td>2017-10-02 10:56:33</td>\n",
       "      <td>2017-10-02 11:07:15</td>\n",
       "      <td>2017-10-04 19:55:00</td>\n",
       "      <td>2017-10-10 21:25:13</td>\n",
       "      <td>2017-10-18</td>\n",
       "      <td>2017</td>\n",
       "      <td>10</td>\n",
       "      <td>8</td>\n",
       "    </tr>\n",
       "    <tr>\n",
       "      <th>1</th>\n",
       "      <td>53cdb2fc8bc7dce0b6741e2150273451</td>\n",
       "      <td>b0830fb4747a6c6d20dea0b8c802d7ef</td>\n",
       "      <td>delivered</td>\n",
       "      <td>2018-07-24 20:41:37</td>\n",
       "      <td>2018-07-26 03:24:27</td>\n",
       "      <td>2018-07-26 14:31:00</td>\n",
       "      <td>2018-08-07 15:27:45</td>\n",
       "      <td>2018-08-13</td>\n",
       "      <td>2018</td>\n",
       "      <td>7</td>\n",
       "      <td>13</td>\n",
       "    </tr>\n",
       "    <tr>\n",
       "      <th>2</th>\n",
       "      <td>47770eb9100c2d0c44946d9cf07ec65d</td>\n",
       "      <td>41ce2a54c0b03bf3443c3d931a367089</td>\n",
       "      <td>delivered</td>\n",
       "      <td>2018-08-08 08:38:49</td>\n",
       "      <td>2018-08-08 08:55:23</td>\n",
       "      <td>2018-08-08 13:50:00</td>\n",
       "      <td>2018-08-17 18:06:29</td>\n",
       "      <td>2018-09-04</td>\n",
       "      <td>2018</td>\n",
       "      <td>8</td>\n",
       "      <td>9</td>\n",
       "    </tr>\n",
       "    <tr>\n",
       "      <th>3</th>\n",
       "      <td>949d5b44dbf5de918fe9c16f97b45f8a</td>\n",
       "      <td>f88197465ea7920adcdbec7375364d82</td>\n",
       "      <td>delivered</td>\n",
       "      <td>2017-11-18 19:28:06</td>\n",
       "      <td>2017-11-18 19:45:59</td>\n",
       "      <td>2017-11-22 13:39:59</td>\n",
       "      <td>2017-12-02 00:28:42</td>\n",
       "      <td>2017-12-15</td>\n",
       "      <td>2017</td>\n",
       "      <td>11</td>\n",
       "      <td>13</td>\n",
       "    </tr>\n",
       "    <tr>\n",
       "      <th>4</th>\n",
       "      <td>ad21c59c0840e6cb83a9ceb5573f8159</td>\n",
       "      <td>8ab97904e6daea8866dbdbc4fb7aad2c</td>\n",
       "      <td>delivered</td>\n",
       "      <td>2018-02-13 21:18:39</td>\n",
       "      <td>2018-02-13 22:20:29</td>\n",
       "      <td>2018-02-14 19:46:34</td>\n",
       "      <td>2018-02-16 18:17:02</td>\n",
       "      <td>2018-02-26</td>\n",
       "      <td>2018</td>\n",
       "      <td>2</td>\n",
       "      <td>2</td>\n",
       "    </tr>\n",
       "  </tbody>\n",
       "</table>\n",
       "</div>"
      ],
      "text/plain": [
       "                           order_id                       customer_id  \\\n",
       "0  e481f51cbdc54678b7cc49136f2d6af7  9ef432eb6251297304e76186b10a928d   \n",
       "1  53cdb2fc8bc7dce0b6741e2150273451  b0830fb4747a6c6d20dea0b8c802d7ef   \n",
       "2  47770eb9100c2d0c44946d9cf07ec65d  41ce2a54c0b03bf3443c3d931a367089   \n",
       "3  949d5b44dbf5de918fe9c16f97b45f8a  f88197465ea7920adcdbec7375364d82   \n",
       "4  ad21c59c0840e6cb83a9ceb5573f8159  8ab97904e6daea8866dbdbc4fb7aad2c   \n",
       "\n",
       "  order_status order_purchase_timestamp    order_approved_at  \\\n",
       "0    delivered      2017-10-02 10:56:33  2017-10-02 11:07:15   \n",
       "1    delivered      2018-07-24 20:41:37  2018-07-26 03:24:27   \n",
       "2    delivered      2018-08-08 08:38:49  2018-08-08 08:55:23   \n",
       "3    delivered      2017-11-18 19:28:06  2017-11-18 19:45:59   \n",
       "4    delivered      2018-02-13 21:18:39  2018-02-13 22:20:29   \n",
       "\n",
       "  order_delivered_carrier_date order_delivered_customer_date  \\\n",
       "0          2017-10-04 19:55:00           2017-10-10 21:25:13   \n",
       "1          2018-07-26 14:31:00           2018-08-07 15:27:45   \n",
       "2          2018-08-08 13:50:00           2018-08-17 18:06:29   \n",
       "3          2017-11-22 13:39:59           2017-12-02 00:28:42   \n",
       "4          2018-02-14 19:46:34           2018-02-16 18:17:02   \n",
       "\n",
       "  order_estimated_delivery_date   año  mes  dias_entrega  \n",
       "0                    2017-10-18  2017   10             8  \n",
       "1                    2018-08-13  2018    7            13  \n",
       "2                    2018-09-04  2018    8             9  \n",
       "3                    2017-12-15  2017   11            13  \n",
       "4                    2018-02-26  2018    2             2  "
      ]
     },
     "execution_count": 61,
     "metadata": {},
     "output_type": "execute_result"
    }
   ],
   "source": [
    "ordenes.head()"
   ]
  },
  {
   "cell_type": "code",
   "execution_count": 62,
   "id": "2b9ca4f0-d1fc-40dc-8de3-b044cf847a25",
   "metadata": {},
   "outputs": [
    {
     "name": "stdout",
     "output_type": "stream",
     "text": [
      "Ticket promedio: 137.75\n"
     ]
    }
   ],
   "source": [
    "ticket_promedio = ventas.groupby('order_id')[\"price\"].sum().mean()\n",
    "print(f\"Ticket promedio: {ticket_promedio:.2f}\")"
   ]
  },
  {
   "cell_type": "code",
   "execution_count": 63,
   "id": "9a94b6f7-2702-4558-92c8-8ddb78118a23",
   "metadata": {},
   "outputs": [],
   "source": [
    "# Decargamos nuevas tablas limpias para importar a POWER BI\n",
    "\n",
    "# ventas.to_csv('ventas.csv', index=False)\n",
    "# clientes.to_csv('clientes.csv', index=False)\n",
    "# productos_2.to_csv('productos.csv', index=False)\n",
    "# vendedores.to_csv('vendedores.csv', index=False)\n",
    "# ordenes.to_csv('ordenes.csv', index=False)\n",
    "# pagos.to_csv('pagos.csv', index=False)\n",
    "# reseñas.to_csv('reseñas.csv', index=False)"
   ]
  },
  {
   "cell_type": "markdown",
   "id": "2ca2ce40-60f0-492e-9960-1111cea1dde3",
   "metadata": {},
   "source": [
    "## Al relacionar las tablas en POWER BI detectamos que hay ordenes que no se pueden localizar el estado en donde fue la compra, creemos que esto se debe al haber eliminado algunas filas de la tabla \"ordenes\" por lo que vamos  a recuperar esas filas."
   ]
  },
  {
   "cell_type": "code",
   "execution_count": 65,
   "id": "33b82099-cda0-4453-86e5-f5043fe74410",
   "metadata": {},
   "outputs": [],
   "source": [
    "ordenes_2 = pd.read_csv(\"C:/Users/nicol/OneDrive/Escritorio/Proyectos/Proyecto 1/olist_orders_dataset.csv\")"
   ]
  },
  {
   "cell_type": "code",
   "execution_count": 66,
   "id": "cbe08852-e719-49be-bc86-aa39e5d9a5fb",
   "metadata": {},
   "outputs": [
    {
     "data": {
      "text/plain": [
       "order_id                            0\n",
       "customer_id                         0\n",
       "order_status                        0\n",
       "order_purchase_timestamp            0\n",
       "order_approved_at                 160\n",
       "order_delivered_carrier_date     1783\n",
       "order_delivered_customer_date    2965\n",
       "order_estimated_delivery_date       0\n",
       "dtype: int64"
      ]
     },
     "execution_count": 66,
     "metadata": {},
     "output_type": "execute_result"
    }
   ],
   "source": [
    "ordenes_2.isnull().sum()"
   ]
  },
  {
   "cell_type": "code",
   "execution_count": 67,
   "id": "35b7aa17-ed28-4156-86d0-446e8a09479b",
   "metadata": {},
   "outputs": [
    {
     "data": {
      "text/plain": [
       "order_id                         0.000000\n",
       "customer_id                      0.000000\n",
       "order_status                     0.000000\n",
       "order_purchase_timestamp         0.000000\n",
       "order_approved_at                0.160899\n",
       "order_delivered_carrier_date     1.793023\n",
       "order_delivered_customer_date    2.981668\n",
       "order_estimated_delivery_date    0.000000\n",
       "dtype: float64"
      ]
     },
     "execution_count": 67,
     "metadata": {},
     "output_type": "execute_result"
    }
   ],
   "source": [
    "ordenes_nulos_Porc_2 = (ordenes_2.isnull().sum() / len(ordenes_2)) * 100\n",
    "\n",
    "ordenes_nulos_Porc_2"
   ]
  },
  {
   "cell_type": "code",
   "execution_count": 68,
   "id": "ef000dd8-cf96-40ee-899f-333cc8a4df50",
   "metadata": {},
   "outputs": [],
   "source": [
    "ordenes_2[\"order_purchase_timestamp\"] = pd.to_datetime(ordenes_2[\"order_purchase_timestamp\"])\n",
    "ordenes_2[\"order_delivered_customer_date\"] = pd.to_datetime(ordenes_2[\"order_delivered_customer_date\"])\n",
    "ordenes_2[\"order_delivered_carrier_date\"] = pd.to_datetime(ordenes_2[\"order_delivered_carrier_date\"])\n",
    "ordenes_2[\"order_estimated_delivery_date\"] = pd.to_datetime(ordenes_2[\"order_estimated_delivery_date\"])"
   ]
  },
  {
   "cell_type": "code",
   "execution_count": 69,
   "id": "3757ede2-be7d-49be-8f77-c8efe425817c",
   "metadata": {},
   "outputs": [],
   "source": [
    "ordenes_2['año'] = ordenes_2['order_purchase_timestamp'].dt.year\n",
    "ordenes_2['mes'] = ordenes_2['order_purchase_timestamp'].dt.month"
   ]
  },
  {
   "cell_type": "code",
   "execution_count": 70,
   "id": "4af66566-9509-4a18-8eeb-650579255c97",
   "metadata": {},
   "outputs": [
    {
     "name": "stdout",
     "output_type": "stream",
     "text": [
      "count    96476.000000\n",
      "mean        12.094086\n",
      "std          9.551746\n",
      "min          0.000000\n",
      "25%          6.000000\n",
      "50%         10.000000\n",
      "75%         15.000000\n",
      "max        209.000000\n",
      "Name: dias_entrega, dtype: float64\n"
     ]
    }
   ],
   "source": [
    "ordenes_2[\"dias_entrega\"] = (ordenes_2[\"order_delivered_customer_date\"] - ordenes_2[\"order_purchase_timestamp\"]).dt.days\n",
    "print(ordenes_2[\"dias_entrega\"].describe())"
   ]
  },
  {
   "cell_type": "code",
   "execution_count": 71,
   "id": "c1338922-dfcc-4f6d-ac73-7250c50a6ca0",
   "metadata": {},
   "outputs": [],
   "source": [
    "# ordenes_2.to_csv('ordenes.csv', index=False)"
   ]
  },
  {
   "cell_type": "markdown",
   "id": "c3e7f6eb-d375-4cd3-bdc2-5499a0380a21",
   "metadata": {},
   "source": [
    "### Quiero saber cual es la ciudad y el estado con mas ventas."
   ]
  },
  {
   "cell_type": "code",
   "execution_count": 72,
   "id": "d234ec36-62a2-4545-913c-4a81f6e1e953",
   "metadata": {},
   "outputs": [],
   "source": [
    "ordenes_filtrado = ordenes_2[['order_id', 'customer_id']]"
   ]
  },
  {
   "cell_type": "code",
   "execution_count": 73,
   "id": "756feb24-1844-4cc1-bcd0-b33d3040ef55",
   "metadata": {},
   "outputs": [],
   "source": [
    "ventas_union = pd.merge(ventas, ordenes_filtrado, on=\"order_id\", how=\"left\")"
   ]
  },
  {
   "cell_type": "code",
   "execution_count": 74,
   "id": "d4cc7007-a6b3-4949-8236-3702805e9366",
   "metadata": {},
   "outputs": [
    {
     "data": {
      "text/html": [
       "<div>\n",
       "<style scoped>\n",
       "    .dataframe tbody tr th:only-of-type {\n",
       "        vertical-align: middle;\n",
       "    }\n",
       "\n",
       "    .dataframe tbody tr th {\n",
       "        vertical-align: top;\n",
       "    }\n",
       "\n",
       "    .dataframe thead th {\n",
       "        text-align: right;\n",
       "    }\n",
       "</style>\n",
       "<table border=\"1\" class=\"dataframe\">\n",
       "  <thead>\n",
       "    <tr style=\"text-align: right;\">\n",
       "      <th></th>\n",
       "      <th>order_id</th>\n",
       "      <th>order_item_id</th>\n",
       "      <th>product_id</th>\n",
       "      <th>seller_id</th>\n",
       "      <th>shipping_limit_date</th>\n",
       "      <th>price</th>\n",
       "      <th>freight_value</th>\n",
       "      <th>customer_id</th>\n",
       "    </tr>\n",
       "  </thead>\n",
       "  <tbody>\n",
       "    <tr>\n",
       "      <th>0</th>\n",
       "      <td>00010242fe8c5a6d1ba2dd792cb16214</td>\n",
       "      <td>1</td>\n",
       "      <td>4244733e06e7ecb4970a6e2683c13e61</td>\n",
       "      <td>48436dade18ac8b2bce089ec2a041202</td>\n",
       "      <td>2017-09-19 09:45:35</td>\n",
       "      <td>58.90</td>\n",
       "      <td>13.29</td>\n",
       "      <td>3ce436f183e68e07877b285a838db11a</td>\n",
       "    </tr>\n",
       "    <tr>\n",
       "      <th>1</th>\n",
       "      <td>00018f77f2f0320c557190d7a144bdd3</td>\n",
       "      <td>1</td>\n",
       "      <td>e5f2d52b802189ee658865ca93d83a8f</td>\n",
       "      <td>dd7ddc04e1b6c2c614352b383efe2d36</td>\n",
       "      <td>2017-05-03 11:05:13</td>\n",
       "      <td>239.90</td>\n",
       "      <td>19.93</td>\n",
       "      <td>f6dd3ec061db4e3987629fe6b26e5cce</td>\n",
       "    </tr>\n",
       "    <tr>\n",
       "      <th>2</th>\n",
       "      <td>000229ec398224ef6ca0657da4fc703e</td>\n",
       "      <td>1</td>\n",
       "      <td>c777355d18b72b67abbeef9df44fd0fd</td>\n",
       "      <td>5b51032eddd242adc84c38acab88f23d</td>\n",
       "      <td>2018-01-18 14:48:30</td>\n",
       "      <td>199.00</td>\n",
       "      <td>17.87</td>\n",
       "      <td>6489ae5e4333f3693df5ad4372dab6d3</td>\n",
       "    </tr>\n",
       "    <tr>\n",
       "      <th>3</th>\n",
       "      <td>00024acbcdf0a6daa1e931b038114c75</td>\n",
       "      <td>1</td>\n",
       "      <td>7634da152a4610f1595efa32f14722fc</td>\n",
       "      <td>9d7a1d34a5052409006425275ba1c2b4</td>\n",
       "      <td>2018-08-15 10:10:18</td>\n",
       "      <td>12.99</td>\n",
       "      <td>12.79</td>\n",
       "      <td>d4eb9395c8c0431ee92fce09860c5a06</td>\n",
       "    </tr>\n",
       "    <tr>\n",
       "      <th>4</th>\n",
       "      <td>00042b26cf59d7ce69dfabb4e55b4fd9</td>\n",
       "      <td>1</td>\n",
       "      <td>ac6c3623068f30de03045865e4e10089</td>\n",
       "      <td>df560393f3a51e74553ab94004ba5c87</td>\n",
       "      <td>2017-02-13 13:57:51</td>\n",
       "      <td>199.90</td>\n",
       "      <td>18.14</td>\n",
       "      <td>58dbd0b2d70206bf40e62cd34e84d795</td>\n",
       "    </tr>\n",
       "  </tbody>\n",
       "</table>\n",
       "</div>"
      ],
      "text/plain": [
       "                           order_id  order_item_id  \\\n",
       "0  00010242fe8c5a6d1ba2dd792cb16214              1   \n",
       "1  00018f77f2f0320c557190d7a144bdd3              1   \n",
       "2  000229ec398224ef6ca0657da4fc703e              1   \n",
       "3  00024acbcdf0a6daa1e931b038114c75              1   \n",
       "4  00042b26cf59d7ce69dfabb4e55b4fd9              1   \n",
       "\n",
       "                         product_id                         seller_id  \\\n",
       "0  4244733e06e7ecb4970a6e2683c13e61  48436dade18ac8b2bce089ec2a041202   \n",
       "1  e5f2d52b802189ee658865ca93d83a8f  dd7ddc04e1b6c2c614352b383efe2d36   \n",
       "2  c777355d18b72b67abbeef9df44fd0fd  5b51032eddd242adc84c38acab88f23d   \n",
       "3  7634da152a4610f1595efa32f14722fc  9d7a1d34a5052409006425275ba1c2b4   \n",
       "4  ac6c3623068f30de03045865e4e10089  df560393f3a51e74553ab94004ba5c87   \n",
       "\n",
       "   shipping_limit_date   price  freight_value  \\\n",
       "0  2017-09-19 09:45:35   58.90          13.29   \n",
       "1  2017-05-03 11:05:13  239.90          19.93   \n",
       "2  2018-01-18 14:48:30  199.00          17.87   \n",
       "3  2018-08-15 10:10:18   12.99          12.79   \n",
       "4  2017-02-13 13:57:51  199.90          18.14   \n",
       "\n",
       "                        customer_id  \n",
       "0  3ce436f183e68e07877b285a838db11a  \n",
       "1  f6dd3ec061db4e3987629fe6b26e5cce  \n",
       "2  6489ae5e4333f3693df5ad4372dab6d3  \n",
       "3  d4eb9395c8c0431ee92fce09860c5a06  \n",
       "4  58dbd0b2d70206bf40e62cd34e84d795  "
      ]
     },
     "execution_count": 74,
     "metadata": {},
     "output_type": "execute_result"
    }
   ],
   "source": [
    "ventas_union.head()"
   ]
  },
  {
   "cell_type": "code",
   "execution_count": 75,
   "id": "01c1f92e-ee49-45ca-b4ad-75ad8a791005",
   "metadata": {},
   "outputs": [
    {
     "data": {
      "text/plain": [
       "array(['customer_id', 'customer_unique_id', 'customer_zip_code_prefix',\n",
       "       'customer_city', 'customer_state'], dtype=object)"
      ]
     },
     "execution_count": 75,
     "metadata": {},
     "output_type": "execute_result"
    }
   ],
   "source": [
    "clientes.columns.values"
   ]
  },
  {
   "cell_type": "code",
   "execution_count": 76,
   "id": "1d2d0d06-03bb-4b53-9c61-d0cf4e36e4bf",
   "metadata": {},
   "outputs": [],
   "source": [
    "clientes_filtrado = clientes[['customer_id', 'customer_state', 'customer_city']]"
   ]
  },
  {
   "cell_type": "code",
   "execution_count": 77,
   "id": "d22df03b-f7b4-44f4-a08e-62b3669df1d8",
   "metadata": {},
   "outputs": [],
   "source": [
    "ventas_union = pd.merge(ventas_union, clientes_filtrado, on=\"customer_id\", how=\"left\")"
   ]
  },
  {
   "cell_type": "code",
   "execution_count": 78,
   "id": "b91708b7-caae-474a-a653-31dc52434f2a",
   "metadata": {},
   "outputs": [
    {
     "data": {
      "text/plain": [
       "array(['order_id', 'order_item_id', 'product_id', 'seller_id',\n",
       "       'shipping_limit_date', 'price', 'freight_value', 'customer_id',\n",
       "       'customer_state', 'customer_city'], dtype=object)"
      ]
     },
     "execution_count": 78,
     "metadata": {},
     "output_type": "execute_result"
    }
   ],
   "source": [
    "ventas_union.columns.values"
   ]
  },
  {
   "cell_type": "code",
   "execution_count": 79,
   "id": "2186cbc9-ecc1-4923-850e-c57a90a872a1",
   "metadata": {},
   "outputs": [],
   "source": [
    "ventas_union['customer_city'] = ventas_union['customer_city'].str.strip()\n",
    "ventas_union['customer_city'] = ventas_union['customer_city'].str.lower()"
   ]
  },
  {
   "cell_type": "code",
   "execution_count": 80,
   "id": "d5f12648-cba8-4d66-80a0-e70d8c15adee",
   "metadata": {},
   "outputs": [
    {
     "name": "stdout",
     "output_type": "stream",
     "text": [
      "0\n"
     ]
    }
   ],
   "source": [
    "print(ventas_union['customer_city'].isnull().sum())"
   ]
  },
  {
   "cell_type": "code",
   "execution_count": 81,
   "id": "54a191f6-3c88-42bd-8928-4237ff8be486",
   "metadata": {},
   "outputs": [
    {
     "name": "stdout",
     "output_type": "stream",
     "text": [
      "customer_city\n",
      "sao paulo                       1914924.54\n",
      "rio de janeiro                   992538.86\n",
      "belo horizonte                   355611.13\n",
      "brasilia                         301920.25\n",
      "curitiba                         211738.06\n",
      "                                   ...    \n",
      "jenipapo de minas                     7.48\n",
      "santo antonio do rio abaixo           6.00\n",
      "senador jose porfirio                 6.00\n",
      "sabaudia                              5.90\n",
      "polo petroquimico de triunfo          5.60\n",
      "Name: price, Length: 4110, dtype: float64\n"
     ]
    }
   ],
   "source": [
    "ventas_por_ciudad = ventas_union.groupby('customer_city')['price'].sum().sort_values(ascending=False)\n",
    "\n",
    "print(ventas_por_ciudad)"
   ]
  },
  {
   "cell_type": "code",
   "execution_count": 82,
   "id": "7193005b-1576-4c94-99ad-521fc53f1d91",
   "metadata": {},
   "outputs": [
    {
     "name": "stdout",
     "output_type": "stream",
     "text": [
      "customer_state\n",
      "SP    5202955.05\n",
      "RJ    1824092.67\n",
      "MG    1585308.03\n",
      "RS     750304.02\n",
      "PR     683083.76\n",
      "SC     520553.34\n",
      "BA     511349.99\n",
      "DF     302603.94\n",
      "GO     294591.95\n",
      "ES     275037.31\n",
      "PE     262788.03\n",
      "CE     227254.71\n",
      "PA     178947.81\n",
      "MT     156453.53\n",
      "MA     119648.22\n",
      "MS     116812.64\n",
      "PB     115268.08\n",
      "PI      86914.08\n",
      "RN      83034.98\n",
      "AL      80314.81\n",
      "SE      58920.85\n",
      "TO      49621.74\n",
      "RO      46140.64\n",
      "AM      22356.84\n",
      "AC      15982.95\n",
      "AP      13474.30\n",
      "RR       7829.43\n",
      "Name: price, dtype: float64\n"
     ]
    }
   ],
   "source": [
    "ventas_por_estado = ventas_union.groupby('customer_state')['price'].sum().sort_values(ascending=False)\n",
    "\n",
    "print(ventas_por_estado)"
   ]
  },
  {
   "cell_type": "code",
   "execution_count": 83,
   "id": "1edd69a8-c902-4b71-a5f5-ec258378ca4a",
   "metadata": {},
   "outputs": [
    {
     "data": {
      "text/plain": [
       "(112650, 10)"
      ]
     },
     "execution_count": 83,
     "metadata": {},
     "output_type": "execute_result"
    }
   ],
   "source": [
    "ventas_union.shape"
   ]
  },
  {
   "cell_type": "code",
   "execution_count": 84,
   "id": "ba8c946a-e46b-4e1e-9034-3d762bf47339",
   "metadata": {},
   "outputs": [
    {
     "data": {
      "text/plain": [
       "13591643.700000003"
      ]
     },
     "execution_count": 84,
     "metadata": {},
     "output_type": "execute_result"
    }
   ],
   "source": [
    "ventas_union['price'].sum()"
   ]
  },
  {
   "cell_type": "code",
   "execution_count": 85,
   "id": "9b9b72cb-fdaa-4b96-94a1-b831c5258274",
   "metadata": {},
   "outputs": [
    {
     "data": {
      "text/plain": [
       "2251909.54"
      ]
     },
     "execution_count": 85,
     "metadata": {},
     "output_type": "execute_result"
    }
   ],
   "source": [
    "ventas_union['freight_value'].sum()"
   ]
  },
  {
   "cell_type": "code",
   "execution_count": 86,
   "id": "919e8503-e699-4e27-acd0-7366b7fafe81",
   "metadata": {},
   "outputs": [],
   "source": [
    "#ventas_union.to_csv('ventas.csv', index=False)"
   ]
  },
  {
   "cell_type": "code",
   "execution_count": 87,
   "id": "10171f7a-27cb-4ba1-b1c6-8eecfae146e4",
   "metadata": {},
   "outputs": [
    {
     "data": {
      "text/plain": [
       "13591643.700000003"
      ]
     },
     "execution_count": 87,
     "metadata": {},
     "output_type": "execute_result"
    }
   ],
   "source": [
    "ventas['price'].sum()"
   ]
  },
  {
   "cell_type": "markdown",
   "id": "77cca64d-8599-40ba-90e2-4fdeb6c9a298",
   "metadata": {},
   "source": [
    "### Vamos a verificar si hay ordenes duplicadas que puedan estar afectando al calculo en POWER BI ya que nos da diferente al resultado de Pyhton."
   ]
  },
  {
   "cell_type": "code",
   "execution_count": 88,
   "id": "68c191c9-640e-4812-b577-47818e32c8b5",
   "metadata": {},
   "outputs": [
    {
     "data": {
      "text/plain": [
       "13984"
      ]
     },
     "execution_count": 88,
     "metadata": {},
     "output_type": "execute_result"
    }
   ],
   "source": [
    "ventas_union['order_id'].duplicated().sum()"
   ]
  },
  {
   "cell_type": "code",
   "execution_count": 89,
   "id": "b119386c-dd79-4cf7-bfa9-dd8fcc2441fa",
   "metadata": {},
   "outputs": [
    {
     "data": {
      "text/html": [
       "<div>\n",
       "<style scoped>\n",
       "    .dataframe tbody tr th:only-of-type {\n",
       "        vertical-align: middle;\n",
       "    }\n",
       "\n",
       "    .dataframe tbody tr th {\n",
       "        vertical-align: top;\n",
       "    }\n",
       "\n",
       "    .dataframe thead th {\n",
       "        text-align: right;\n",
       "    }\n",
       "</style>\n",
       "<table border=\"1\" class=\"dataframe\">\n",
       "  <thead>\n",
       "    <tr style=\"text-align: right;\">\n",
       "      <th></th>\n",
       "      <th>order_id</th>\n",
       "      <th>order_item_id</th>\n",
       "      <th>product_id</th>\n",
       "      <th>seller_id</th>\n",
       "      <th>shipping_limit_date</th>\n",
       "      <th>price</th>\n",
       "      <th>freight_value</th>\n",
       "      <th>customer_id</th>\n",
       "      <th>customer_state</th>\n",
       "      <th>customer_city</th>\n",
       "    </tr>\n",
       "  </thead>\n",
       "  <tbody>\n",
       "    <tr>\n",
       "      <th>14</th>\n",
       "      <td>0008288aa423d2a3f00fcb17cd7d8719</td>\n",
       "      <td>2</td>\n",
       "      <td>368c6c730842d78016ad823897a372db</td>\n",
       "      <td>1f50f920176fa81dab994f9023523100</td>\n",
       "      <td>2018-02-21 02:55:52</td>\n",
       "      <td>49.90</td>\n",
       "      <td>13.37</td>\n",
       "      <td>2355af7c75e7c98b43a87b2a7f210dc5</td>\n",
       "      <td>SP</td>\n",
       "      <td>jandira</td>\n",
       "    </tr>\n",
       "    <tr>\n",
       "      <th>33</th>\n",
       "      <td>00143d0f86d6fbd9f9b38ab440ac16f5</td>\n",
       "      <td>2</td>\n",
       "      <td>e95ee6822b66ac6058e2e4aff656071a</td>\n",
       "      <td>a17f621c590ea0fab3d5d883e1630ec6</td>\n",
       "      <td>2017-10-20 16:07:52</td>\n",
       "      <td>21.33</td>\n",
       "      <td>15.10</td>\n",
       "      <td>2e45292979b9b2700ea09560eeb0f803</td>\n",
       "      <td>GO</td>\n",
       "      <td>goiania</td>\n",
       "    </tr>\n",
       "    <tr>\n",
       "      <th>34</th>\n",
       "      <td>00143d0f86d6fbd9f9b38ab440ac16f5</td>\n",
       "      <td>3</td>\n",
       "      <td>e95ee6822b66ac6058e2e4aff656071a</td>\n",
       "      <td>a17f621c590ea0fab3d5d883e1630ec6</td>\n",
       "      <td>2017-10-20 16:07:52</td>\n",
       "      <td>21.33</td>\n",
       "      <td>15.10</td>\n",
       "      <td>2e45292979b9b2700ea09560eeb0f803</td>\n",
       "      <td>GO</td>\n",
       "      <td>goiania</td>\n",
       "    </tr>\n",
       "    <tr>\n",
       "      <th>43</th>\n",
       "      <td>001ab0a7578dd66cd4b0a71f5b6e1e41</td>\n",
       "      <td>2</td>\n",
       "      <td>0b0172eb0fd18479d29c3bc122c058c2</td>\n",
       "      <td>5656537e588803a555b8eb41f07a944b</td>\n",
       "      <td>2018-01-04 02:33:42</td>\n",
       "      <td>24.89</td>\n",
       "      <td>17.63</td>\n",
       "      <td>8bb3bef4e75a95524235cdc11a7331af</td>\n",
       "      <td>BA</td>\n",
       "      <td>salvador</td>\n",
       "    </tr>\n",
       "    <tr>\n",
       "      <th>44</th>\n",
       "      <td>001ab0a7578dd66cd4b0a71f5b6e1e41</td>\n",
       "      <td>3</td>\n",
       "      <td>0b0172eb0fd18479d29c3bc122c058c2</td>\n",
       "      <td>5656537e588803a555b8eb41f07a944b</td>\n",
       "      <td>2018-01-04 02:33:42</td>\n",
       "      <td>24.89</td>\n",
       "      <td>17.63</td>\n",
       "      <td>8bb3bef4e75a95524235cdc11a7331af</td>\n",
       "      <td>BA</td>\n",
       "      <td>salvador</td>\n",
       "    </tr>\n",
       "    <tr>\n",
       "      <th>...</th>\n",
       "      <td>...</td>\n",
       "      <td>...</td>\n",
       "      <td>...</td>\n",
       "      <td>...</td>\n",
       "      <td>...</td>\n",
       "      <td>...</td>\n",
       "      <td>...</td>\n",
       "      <td>...</td>\n",
       "      <td>...</td>\n",
       "      <td>...</td>\n",
       "    </tr>\n",
       "    <tr>\n",
       "      <th>112617</th>\n",
       "      <td>ffecd5a79a0084f6a592288c67e3c298</td>\n",
       "      <td>3</td>\n",
       "      <td>50fd2b788dc166edd20512370dac54df</td>\n",
       "      <td>8b321bb669392f5163d04c59e235e066</td>\n",
       "      <td>2018-03-05 20:15:27</td>\n",
       "      <td>21.90</td>\n",
       "      <td>15.79</td>\n",
       "      <td>8afa5a415d65a08e3a68b1d7f9ddd8a5</td>\n",
       "      <td>BA</td>\n",
       "      <td>salvador</td>\n",
       "    </tr>\n",
       "    <tr>\n",
       "      <th>112635</th>\n",
       "      <td>fff8287bbae429a99bb7e8c21d151c41</td>\n",
       "      <td>2</td>\n",
       "      <td>bee2e070c39f3dd2f6883a17a5f0da45</td>\n",
       "      <td>4e922959ae960d389249c378d1c939f5</td>\n",
       "      <td>2018-03-27 12:29:22</td>\n",
       "      <td>180.00</td>\n",
       "      <td>48.14</td>\n",
       "      <td>6c1e92a209dbf868706caa831090941e</td>\n",
       "      <td>PB</td>\n",
       "      <td>joao pessoa</td>\n",
       "    </tr>\n",
       "    <tr>\n",
       "      <th>112641</th>\n",
       "      <td>fffb9224b6fc7c43ebb0904318b10b5f</td>\n",
       "      <td>2</td>\n",
       "      <td>43423cdffde7fda63d0414ed38c11a73</td>\n",
       "      <td>b1fc4f64df5a0e8b6913ab38803c57a9</td>\n",
       "      <td>2017-11-03 02:55:58</td>\n",
       "      <td>55.00</td>\n",
       "      <td>34.19</td>\n",
       "      <td>4d3abb73ceb86353aeadbe698aa9d5cb</td>\n",
       "      <td>PE</td>\n",
       "      <td>serra talhada</td>\n",
       "    </tr>\n",
       "    <tr>\n",
       "      <th>112642</th>\n",
       "      <td>fffb9224b6fc7c43ebb0904318b10b5f</td>\n",
       "      <td>3</td>\n",
       "      <td>43423cdffde7fda63d0414ed38c11a73</td>\n",
       "      <td>b1fc4f64df5a0e8b6913ab38803c57a9</td>\n",
       "      <td>2017-11-03 02:55:58</td>\n",
       "      <td>55.00</td>\n",
       "      <td>34.19</td>\n",
       "      <td>4d3abb73ceb86353aeadbe698aa9d5cb</td>\n",
       "      <td>PE</td>\n",
       "      <td>serra talhada</td>\n",
       "    </tr>\n",
       "    <tr>\n",
       "      <th>112643</th>\n",
       "      <td>fffb9224b6fc7c43ebb0904318b10b5f</td>\n",
       "      <td>4</td>\n",
       "      <td>43423cdffde7fda63d0414ed38c11a73</td>\n",
       "      <td>b1fc4f64df5a0e8b6913ab38803c57a9</td>\n",
       "      <td>2017-11-03 02:55:58</td>\n",
       "      <td>55.00</td>\n",
       "      <td>34.19</td>\n",
       "      <td>4d3abb73ceb86353aeadbe698aa9d5cb</td>\n",
       "      <td>PE</td>\n",
       "      <td>serra talhada</td>\n",
       "    </tr>\n",
       "  </tbody>\n",
       "</table>\n",
       "<p>13984 rows × 10 columns</p>\n",
       "</div>"
      ],
      "text/plain": [
       "                                order_id  order_item_id  \\\n",
       "14      0008288aa423d2a3f00fcb17cd7d8719              2   \n",
       "33      00143d0f86d6fbd9f9b38ab440ac16f5              2   \n",
       "34      00143d0f86d6fbd9f9b38ab440ac16f5              3   \n",
       "43      001ab0a7578dd66cd4b0a71f5b6e1e41              2   \n",
       "44      001ab0a7578dd66cd4b0a71f5b6e1e41              3   \n",
       "...                                  ...            ...   \n",
       "112617  ffecd5a79a0084f6a592288c67e3c298              3   \n",
       "112635  fff8287bbae429a99bb7e8c21d151c41              2   \n",
       "112641  fffb9224b6fc7c43ebb0904318b10b5f              2   \n",
       "112642  fffb9224b6fc7c43ebb0904318b10b5f              3   \n",
       "112643  fffb9224b6fc7c43ebb0904318b10b5f              4   \n",
       "\n",
       "                              product_id                         seller_id  \\\n",
       "14      368c6c730842d78016ad823897a372db  1f50f920176fa81dab994f9023523100   \n",
       "33      e95ee6822b66ac6058e2e4aff656071a  a17f621c590ea0fab3d5d883e1630ec6   \n",
       "34      e95ee6822b66ac6058e2e4aff656071a  a17f621c590ea0fab3d5d883e1630ec6   \n",
       "43      0b0172eb0fd18479d29c3bc122c058c2  5656537e588803a555b8eb41f07a944b   \n",
       "44      0b0172eb0fd18479d29c3bc122c058c2  5656537e588803a555b8eb41f07a944b   \n",
       "...                                  ...                               ...   \n",
       "112617  50fd2b788dc166edd20512370dac54df  8b321bb669392f5163d04c59e235e066   \n",
       "112635  bee2e070c39f3dd2f6883a17a5f0da45  4e922959ae960d389249c378d1c939f5   \n",
       "112641  43423cdffde7fda63d0414ed38c11a73  b1fc4f64df5a0e8b6913ab38803c57a9   \n",
       "112642  43423cdffde7fda63d0414ed38c11a73  b1fc4f64df5a0e8b6913ab38803c57a9   \n",
       "112643  43423cdffde7fda63d0414ed38c11a73  b1fc4f64df5a0e8b6913ab38803c57a9   \n",
       "\n",
       "        shipping_limit_date   price  freight_value  \\\n",
       "14      2018-02-21 02:55:52   49.90          13.37   \n",
       "33      2017-10-20 16:07:52   21.33          15.10   \n",
       "34      2017-10-20 16:07:52   21.33          15.10   \n",
       "43      2018-01-04 02:33:42   24.89          17.63   \n",
       "44      2018-01-04 02:33:42   24.89          17.63   \n",
       "...                     ...     ...            ...   \n",
       "112617  2018-03-05 20:15:27   21.90          15.79   \n",
       "112635  2018-03-27 12:29:22  180.00          48.14   \n",
       "112641  2017-11-03 02:55:58   55.00          34.19   \n",
       "112642  2017-11-03 02:55:58   55.00          34.19   \n",
       "112643  2017-11-03 02:55:58   55.00          34.19   \n",
       "\n",
       "                             customer_id customer_state  customer_city  \n",
       "14      2355af7c75e7c98b43a87b2a7f210dc5             SP        jandira  \n",
       "33      2e45292979b9b2700ea09560eeb0f803             GO        goiania  \n",
       "34      2e45292979b9b2700ea09560eeb0f803             GO        goiania  \n",
       "43      8bb3bef4e75a95524235cdc11a7331af             BA       salvador  \n",
       "44      8bb3bef4e75a95524235cdc11a7331af             BA       salvador  \n",
       "...                                  ...            ...            ...  \n",
       "112617  8afa5a415d65a08e3a68b1d7f9ddd8a5             BA       salvador  \n",
       "112635  6c1e92a209dbf868706caa831090941e             PB    joao pessoa  \n",
       "112641  4d3abb73ceb86353aeadbe698aa9d5cb             PE  serra talhada  \n",
       "112642  4d3abb73ceb86353aeadbe698aa9d5cb             PE  serra talhada  \n",
       "112643  4d3abb73ceb86353aeadbe698aa9d5cb             PE  serra talhada  \n",
       "\n",
       "[13984 rows x 10 columns]"
      ]
     },
     "execution_count": 89,
     "metadata": {},
     "output_type": "execute_result"
    }
   ],
   "source": [
    "ventas_union[ventas_union['order_id'].duplicated()]"
   ]
  },
  {
   "cell_type": "code",
   "execution_count": 90,
   "id": "c75b926d-7221-4ef3-bc71-e982e89b62db",
   "metadata": {},
   "outputs": [
    {
     "data": {
      "text/plain": [
       "13984"
      ]
     },
     "execution_count": 90,
     "metadata": {},
     "output_type": "execute_result"
    }
   ],
   "source": [
    "ventas_union['order_id'].duplicated().sum()"
   ]
  },
  {
   "cell_type": "code",
   "execution_count": 91,
   "id": "ca86474c-2534-4d39-8615-501072b8f543",
   "metadata": {},
   "outputs": [],
   "source": [
    "filas_duplicadas = ventas_union[ventas_union.duplicated(subset=['order_id', 'order_item_id'])]"
   ]
  },
  {
   "cell_type": "code",
   "execution_count": 92,
   "id": "5d04851c-6411-4a6a-b819-1989c09153f8",
   "metadata": {},
   "outputs": [
    {
     "data": {
      "text/plain": [
       "(0, 10)"
      ]
     },
     "execution_count": 92,
     "metadata": {},
     "output_type": "execute_result"
    }
   ],
   "source": [
    "filas_duplicadas.shape"
   ]
  },
  {
   "cell_type": "markdown",
   "id": "e9e54ad7-97fa-4510-bfb8-84bb56e5eedb",
   "metadata": {},
   "source": [
    "#### No existen filas duplicadas ni ordendes duplicadas ya que aunque se repita el 'order_id' no se repite el 'order_item_id'. El 'order_id' se repite porque si en una orden se compran varios podructos se reigstra una linea por cada unidad. El 'order_item_id' es un número secuencial que identifica cada artículo dentro de una misma orden, por lo cual cada combinacion de 'order_id' y 'order_item:id' es unica como comprobamos."
   ]
  },
  {
   "cell_type": "code",
   "execution_count": 93,
   "id": "4df6ff91-b5b5-4a8a-8905-1454b8ea600b",
   "metadata": {},
   "outputs": [
    {
     "data": {
      "text/plain": [
       "13591643.700000003"
      ]
     },
     "execution_count": 93,
     "metadata": {},
     "output_type": "execute_result"
    }
   ],
   "source": [
    "ventas['price'].sum()"
   ]
  },
  {
   "cell_type": "code",
   "execution_count": 94,
   "id": "06d6abea-ef20-464d-af21-5403057c3def",
   "metadata": {},
   "outputs": [
    {
     "data": {
      "text/plain": [
       "0     58.90\n",
       "1    239.90\n",
       "2    199.00\n",
       "3     12.99\n",
       "4    199.90\n",
       "Name: price, dtype: float64"
      ]
     },
     "execution_count": 94,
     "metadata": {},
     "output_type": "execute_result"
    }
   ],
   "source": [
    "ventas['price'].head()"
   ]
  },
  {
   "cell_type": "code",
   "execution_count": 95,
   "id": "fd1e99a6-60cd-4d48-873f-24b618f0b331",
   "metadata": {},
   "outputs": [
    {
     "name": "stdout",
     "output_type": "stream",
     "text": [
      "(112650, 7)\n",
      "13591643.700000003\n"
     ]
    }
   ],
   "source": [
    "print(ventas.shape)  # ¿Cuántas filas hay?\n",
    "print(ventas['price'].sum()) "
   ]
  },
  {
   "cell_type": "code",
   "execution_count": 96,
   "id": "217f2423-3ae9-4acf-9497-eb21a7ace08f",
   "metadata": {},
   "outputs": [
    {
     "name": "stdout",
     "output_type": "stream",
     "text": [
      "112650\n"
     ]
    }
   ],
   "source": [
    "print(len(ventas))"
   ]
  },
  {
   "cell_type": "code",
   "execution_count": 97,
   "id": "0153dc40-ea3b-4497-9f40-0259afc0ce6a",
   "metadata": {},
   "outputs": [
    {
     "name": "stdout",
     "output_type": "stream",
     "text": [
      "0\n"
     ]
    }
   ],
   "source": [
    "print(ventas['price'].isnull().sum())"
   ]
  },
  {
   "cell_type": "code",
   "execution_count": 98,
   "id": "de7f94e0-2a07-4d52-9143-3d1a210e4877",
   "metadata": {},
   "outputs": [
    {
     "name": "stdout",
     "output_type": "stream",
     "text": [
      "Total en Python: 13591643.700000003\n",
      "Número de filas: 112650\n"
     ]
    }
   ],
   "source": [
    "print(\"Total en Python:\", ventas['price'].sum())\n",
    "print(\"Número de filas:\", len(ventas))"
   ]
  },
  {
   "cell_type": "markdown",
   "id": "5cc11ec5-b2ff-4d24-9430-2467dfba81a7",
   "metadata": {},
   "source": [
    "## Power BI estaba leyendo mal los datos por lo que voy a descargarlos como xlsx para ver si los lee de forma correcta."
   ]
  },
  {
   "cell_type": "code",
   "execution_count": 99,
   "id": "e214e28b-ebf9-4c2e-9b93-d8c1042e9ee4",
   "metadata": {},
   "outputs": [],
   "source": [
    "#ordenes_2.to_excel('ordenes.xlsx', index=False)\n",
    "#ventas_union.to_excel('ventas_union.xlsx', index=False)\n",
    "#clientes.to_excel('clientes.xlsx', index=False)\n",
    "#productos_2.to_excel('productos.xlsx', index=False)\n",
    "#vendedores.to_excel('vendedores.xlsx', index=False)\n",
    "#pagos.to_excel('pagos.xlsx', index=False)\n",
    "#reseñas.to_excel('reseñas.xlsx', index=False)"
   ]
  },
  {
   "cell_type": "code",
   "execution_count": 100,
   "id": "9e59537e-4e5d-44a3-8fbf-912e3f036233",
   "metadata": {},
   "outputs": [
    {
     "data": {
      "text/plain": [
       "(99224, 6)"
      ]
     },
     "execution_count": 100,
     "metadata": {},
     "output_type": "execute_result"
    }
   ],
   "source": [
    "reseñas.shape"
   ]
  },
  {
   "cell_type": "code",
   "execution_count": 101,
   "id": "286f817d-a6a7-4687-8ce8-3ec8f13d5f42",
   "metadata": {},
   "outputs": [
    {
     "data": {
      "text/plain": [
       "array(['order_id', 'review_score', 'review_comment_title',\n",
       "       'review_comment_message', 'review_creation_date',\n",
       "       'review_answer_timestamp'], dtype=object)"
      ]
     },
     "execution_count": 101,
     "metadata": {},
     "output_type": "execute_result"
    }
   ],
   "source": [
    "reseñas.columns.values"
   ]
  },
  {
   "cell_type": "code",
   "execution_count": 102,
   "id": "ddde8d51-c85a-4176-9652-a9a269e6503b",
   "metadata": {},
   "outputs": [
    {
     "data": {
      "text/plain": [
       "0"
      ]
     },
     "execution_count": 102,
     "metadata": {},
     "output_type": "execute_result"
    }
   ],
   "source": [
    "reseñas['review_score'].isnull().sum()"
   ]
  },
  {
   "cell_type": "code",
   "execution_count": 103,
   "id": "c3e701db-4dc0-4c68-8034-fbf47980a2c3",
   "metadata": {},
   "outputs": [
    {
     "data": {
      "text/plain": [
       "array(['product_id', 'product_category_name',\n",
       "       'product_category_name_english'], dtype=object)"
      ]
     },
     "execution_count": 103,
     "metadata": {},
     "output_type": "execute_result"
    }
   ],
   "source": [
    "productos_2.columns.values"
   ]
  },
  {
   "cell_type": "code",
   "execution_count": 104,
   "id": "e4f699a6-f7c8-40e2-8fb9-82dd7bfd69e7",
   "metadata": {},
   "outputs": [
    {
     "data": {
      "text/plain": [
       "array(['order_id', 'order_item_id', 'product_id', 'seller_id',\n",
       "       'shipping_limit_date', 'price', 'freight_value', 'customer_id',\n",
       "       'customer_state', 'customer_city'], dtype=object)"
      ]
     },
     "execution_count": 104,
     "metadata": {},
     "output_type": "execute_result"
    }
   ],
   "source": [
    "ventas_union.columns.values"
   ]
  },
  {
   "cell_type": "code",
   "execution_count": 105,
   "id": "ec9a725f-529d-4658-9399-a6553e7c00fc",
   "metadata": {},
   "outputs": [
    {
     "name": "stdout",
     "output_type": "stream",
     "text": [
      "product_id\n",
      "aca2eb7d00ea1a7b8ebd4e68314663af    527\n",
      "99a4788cb24856965c36a24e339b6058    488\n",
      "422879e10f46682990de24d770e7f83d    484\n",
      "389d119b48cf3043d311335e499d9c6b    392\n",
      "368c6c730842d78016ad823897a372db    388\n",
      "                                   ... \n",
      "6ca99f05e9c1952a6597264e87f01378      1\n",
      "6ca54e191592a843087a042b0665d7ef      1\n",
      "6ca5428af5edb5066b1966ad58501b60      1\n",
      "6ca32b4631431cb1fe976880797a0f5c      1\n",
      "fffe9eeff12fcbd74a2f2b007dde0c58      1\n",
      "Name: order_item_id, Length: 32951, dtype: int64\n"
     ]
    }
   ],
   "source": [
    "# Calculamos cuantos productos se vendieron de cada tipo.\n",
    "\n",
    "ordenes_por_producto = ventas_union.groupby('product_id')['order_item_id'].count()\n",
    "print(ordenes_por_producto.sort_values(ascending=False))"
   ]
  },
  {
   "cell_type": "code",
   "execution_count": 106,
   "id": "a21ba2d5-b53e-49c1-a4ed-ac0a90b34e33",
   "metadata": {},
   "outputs": [
    {
     "name": "stdout",
     "output_type": "stream",
     "text": [
      "product_id\n",
      "99a4788cb24856965c36a24e339b6058    467\n",
      "aca2eb7d00ea1a7b8ebd4e68314663af    431\n",
      "422879e10f46682990de24d770e7f83d    352\n",
      "d1c427060a0f73f6b889a5c7c61f2ac4    323\n",
      "389d119b48cf3043d311335e499d9c6b    311\n",
      "                                   ... \n",
      "69c58bb97c8d7b75fad9e6c1d391fda6      1\n",
      "69c3a9ec3f1094ad11505df27ddad569      1\n",
      "69c2f05e34d543dc71cfe745bfac8499      1\n",
      "69c2cca014581e7e3756142963a69313      1\n",
      "fffe9eeff12fcbd74a2f2b007dde0c58      1\n",
      "Name: order_id, Length: 32951, dtype: int64\n"
     ]
    }
   ],
   "source": [
    "# Calculamos el número de órdenes ÚNICAS por cada producto (en cuantos pedidos diferentes esta cada producto)\n",
    "\n",
    "ordenes_unicas_por_producto = ventas_union.groupby('product_id')['order_id'].nunique()\n",
    "print(ordenes_unicas_por_producto.sort_values(ascending=False))"
   ]
  },
  {
   "cell_type": "code",
   "execution_count": 107,
   "id": "8a970fbb-cbc4-43b8-afe6-6918f04c9023",
   "metadata": {},
   "outputs": [],
   "source": [
    "# categorias_2 = pd.read_csv(\"C:/Users/nicol/OneDrive/Escritorio/Proyecto Personal/categorias_limpias.csv\", encoding='cp1252')"
   ]
  },
  {
   "cell_type": "code",
   "execution_count": 108,
   "id": "5e6de962-2e58-4abd-baad-323ac190e3a6",
   "metadata": {},
   "outputs": [
    {
     "name": "stdout",
     "output_type": "stream",
     "text": [
      "Requirement already satisfied: chardet in c:\\users\\nicol\\anaconda3\\lib\\site-packages (4.0.0)\n",
      "Note: you may need to restart the kernel to use updated packages.\n"
     ]
    }
   ],
   "source": [
    "pip install chardet"
   ]
  },
  {
   "cell_type": "code",
   "execution_count": 113,
   "id": "ea2a5891-ab17-4459-a585-e0464d563ac8",
   "metadata": {},
   "outputs": [
    {
     "name": "stdout",
     "output_type": "stream",
     "text": [
      "Codificación detectada: ISO-8859-1\n",
      "Error al leer el archivo con la codificación 'ISO-8859-1': Error tokenizing data. C error: Expected 1 fields in line 10999, saw 2\n",
      "\n"
     ]
    }
   ],
   "source": [
    "import chardet\n",
    "\n",
    "# Paso 1: Abrir el archivo en modo binario ('rb') para detectar la codificación\n",
    "with open(\"C:/Users/nicol/OneDrive/Escritorio//Proyectos/Proyecto 1/categorias_limpias.csv\", 'rb') as f:\n",
    "    result = chardet.detect(f.read())\n",
    "\n",
    "# Paso 2: Usar la codificación detectada para leer el archivo con Pandas\n",
    "encoding = result['encoding']\n",
    "print(f\"Codificación detectada: {encoding}\")\n",
    "\n",
    "# Paso 3: Intentar leer el CSV con la codificación detectada\n",
    "try:\n",
    "    categorias_2 = pd.read_csv(\"C:/Users/nicol/OneDrive/Escritorio/Proyectos/Proyecto 1/categorias_limpias.csv\", encoding=encoding)\n",
    "    print(\"Archivo leído con éxito!\")\n",
    "    print(categorias_2.head())\n",
    "except Exception as e:\n",
    "    print(f\"Error al leer el archivo con la codificación '{encoding}': {e}\")"
   ]
  },
  {
   "cell_type": "code",
   "execution_count": 114,
   "id": "e2cff141-f453-46b9-b7ce-70d621d624a2",
   "metadata": {},
   "outputs": [],
   "source": [
    "categorias_2 = pd.read_csv(\"categorias_limpias.csv\", encoding='ISO-8859-1', sep=';')"
   ]
  },
  {
   "cell_type": "code",
   "execution_count": 115,
   "id": "120417cf-74b7-4972-baea-ac5cb407b16c",
   "metadata": {},
   "outputs": [
    {
     "data": {
      "text/html": [
       "<div>\n",
       "<style scoped>\n",
       "    .dataframe tbody tr th:only-of-type {\n",
       "        vertical-align: middle;\n",
       "    }\n",
       "\n",
       "    .dataframe tbody tr th {\n",
       "        vertical-align: top;\n",
       "    }\n",
       "\n",
       "    .dataframe thead th {\n",
       "        text-align: right;\n",
       "    }\n",
       "</style>\n",
       "<table border=\"1\" class=\"dataframe\">\n",
       "  <thead>\n",
       "    <tr style=\"text-align: right;\">\n",
       "      <th></th>\n",
       "      <th>product_id</th>\n",
       "      <th>prdouct_name</th>\n",
       "      <th>categoria</th>\n",
       "      <th>categoria_id</th>\n",
       "      <th>subcategoria</th>\n",
       "    </tr>\n",
       "  </thead>\n",
       "  <tbody>\n",
       "    <tr>\n",
       "      <th>0</th>\n",
       "      <td>14aa47b7fe5c25522b47b4b29c98dcb9</td>\n",
       "      <td>bed_bath_table</td>\n",
       "      <td>Hogar y Construcción</td>\n",
       "      <td>1</td>\n",
       "      <td>Muebles y Decoración</td>\n",
       "    </tr>\n",
       "    <tr>\n",
       "      <th>1</th>\n",
       "      <td>f53103a77d9cf245e579ea37e5ec51f0</td>\n",
       "      <td>bed_bath_table</td>\n",
       "      <td>Hogar y Construcción</td>\n",
       "      <td>1</td>\n",
       "      <td>Muebles y Decoración</td>\n",
       "    </tr>\n",
       "    <tr>\n",
       "      <th>2</th>\n",
       "      <td>518ef5de2c2b3a255e326a4594ba15d9</td>\n",
       "      <td>bed_bath_table</td>\n",
       "      <td>Hogar y Construcción</td>\n",
       "      <td>1</td>\n",
       "      <td>Muebles y Decoración</td>\n",
       "    </tr>\n",
       "    <tr>\n",
       "      <th>3</th>\n",
       "      <td>47859fca9dd7485cbd93c3e8993bb74f</td>\n",
       "      <td>bed_bath_table</td>\n",
       "      <td>Hogar y Construcción</td>\n",
       "      <td>1</td>\n",
       "      <td>Muebles y Decoración</td>\n",
       "    </tr>\n",
       "    <tr>\n",
       "      <th>4</th>\n",
       "      <td>db46052aed7dff59ba38cf2fe29b87f9</td>\n",
       "      <td>bed_bath_table</td>\n",
       "      <td>Hogar y Construcción</td>\n",
       "      <td>1</td>\n",
       "      <td>Muebles y Decoración</td>\n",
       "    </tr>\n",
       "  </tbody>\n",
       "</table>\n",
       "</div>"
      ],
      "text/plain": [
       "                         product_id    prdouct_name             categoria  \\\n",
       "0  14aa47b7fe5c25522b47b4b29c98dcb9  bed_bath_table  Hogar y Construcción   \n",
       "1  f53103a77d9cf245e579ea37e5ec51f0  bed_bath_table  Hogar y Construcción   \n",
       "2  518ef5de2c2b3a255e326a4594ba15d9  bed_bath_table  Hogar y Construcción   \n",
       "3  47859fca9dd7485cbd93c3e8993bb74f  bed_bath_table  Hogar y Construcción   \n",
       "4  db46052aed7dff59ba38cf2fe29b87f9  bed_bath_table  Hogar y Construcción   \n",
       "\n",
       "   categoria_id          subcategoria  \n",
       "0             1  Muebles y Decoración  \n",
       "1             1  Muebles y Decoración  \n",
       "2             1  Muebles y Decoración  \n",
       "3             1  Muebles y Decoración  \n",
       "4             1  Muebles y Decoración  "
      ]
     },
     "execution_count": 115,
     "metadata": {},
     "output_type": "execute_result"
    }
   ],
   "source": [
    "categorias_2.head()"
   ]
  },
  {
   "cell_type": "code",
   "execution_count": 116,
   "id": "62c049cb-d566-4af5-982c-fffc064028a0",
   "metadata": {},
   "outputs": [
    {
     "data": {
      "text/plain": [
       "array(['order_id', 'order_item_id', 'product_id', 'seller_id',\n",
       "       'shipping_limit_date', 'price', 'freight_value', 'customer_id',\n",
       "       'customer_state', 'customer_city'], dtype=object)"
      ]
     },
     "execution_count": 116,
     "metadata": {},
     "output_type": "execute_result"
    }
   ],
   "source": [
    "ventas_union.columns.values"
   ]
  },
  {
   "cell_type": "code",
   "execution_count": 117,
   "id": "6ef73379-86d3-4925-a3e1-b5492c9536e9",
   "metadata": {},
   "outputs": [],
   "source": [
    "ventas_union_categorias = pd.merge(ventas_union, categorias_2, on='product_id', how='left')"
   ]
  },
  {
   "cell_type": "code",
   "execution_count": 118,
   "id": "76ad62a3-b600-4674-a099-4e67c07ee320",
   "metadata": {},
   "outputs": [
    {
     "data": {
      "text/plain": [
       "array(['order_id', 'order_item_id', 'product_id', 'seller_id',\n",
       "       'shipping_limit_date', 'price', 'freight_value', 'customer_id',\n",
       "       'customer_state', 'customer_city', 'prdouct_name', 'categoria',\n",
       "       'categoria_id', 'subcategoria'], dtype=object)"
      ]
     },
     "execution_count": 118,
     "metadata": {},
     "output_type": "execute_result"
    }
   ],
   "source": [
    "ventas_union_categorias.columns.values"
   ]
  },
  {
   "cell_type": "code",
   "execution_count": 119,
   "id": "934e8ba1-4aa0-4497-b10c-433c2c8e251a",
   "metadata": {},
   "outputs": [
    {
     "data": {
      "text/html": [
       "<div>\n",
       "<style scoped>\n",
       "    .dataframe tbody tr th:only-of-type {\n",
       "        vertical-align: middle;\n",
       "    }\n",
       "\n",
       "    .dataframe tbody tr th {\n",
       "        vertical-align: top;\n",
       "    }\n",
       "\n",
       "    .dataframe thead th {\n",
       "        text-align: right;\n",
       "    }\n",
       "</style>\n",
       "<table border=\"1\" class=\"dataframe\">\n",
       "  <thead>\n",
       "    <tr style=\"text-align: right;\">\n",
       "      <th></th>\n",
       "      <th>order_id</th>\n",
       "      <th>order_item_id</th>\n",
       "      <th>product_id</th>\n",
       "      <th>seller_id</th>\n",
       "      <th>shipping_limit_date</th>\n",
       "      <th>price</th>\n",
       "      <th>freight_value</th>\n",
       "      <th>customer_id</th>\n",
       "      <th>customer_state</th>\n",
       "      <th>customer_city</th>\n",
       "      <th>prdouct_name</th>\n",
       "      <th>categoria</th>\n",
       "      <th>categoria_id</th>\n",
       "      <th>subcategoria</th>\n",
       "    </tr>\n",
       "  </thead>\n",
       "  <tbody>\n",
       "    <tr>\n",
       "      <th>0</th>\n",
       "      <td>00010242fe8c5a6d1ba2dd792cb16214</td>\n",
       "      <td>1</td>\n",
       "      <td>4244733e06e7ecb4970a6e2683c13e61</td>\n",
       "      <td>48436dade18ac8b2bce089ec2a041202</td>\n",
       "      <td>2017-09-19 09:45:35</td>\n",
       "      <td>58.90</td>\n",
       "      <td>13.29</td>\n",
       "      <td>3ce436f183e68e07877b285a838db11a</td>\n",
       "      <td>RJ</td>\n",
       "      <td>campos dos goytacazes</td>\n",
       "      <td>cool_stuff</td>\n",
       "      <td>Ocio y Cultura</td>\n",
       "      <td>5</td>\n",
       "      <td>Deportes y Ocio</td>\n",
       "    </tr>\n",
       "    <tr>\n",
       "      <th>1</th>\n",
       "      <td>00018f77f2f0320c557190d7a144bdd3</td>\n",
       "      <td>1</td>\n",
       "      <td>e5f2d52b802189ee658865ca93d83a8f</td>\n",
       "      <td>dd7ddc04e1b6c2c614352b383efe2d36</td>\n",
       "      <td>2017-05-03 11:05:13</td>\n",
       "      <td>239.90</td>\n",
       "      <td>19.93</td>\n",
       "      <td>f6dd3ec061db4e3987629fe6b26e5cce</td>\n",
       "      <td>SP</td>\n",
       "      <td>santa fe do sul</td>\n",
       "      <td>pet_shop</td>\n",
       "      <td>Consumo y Mascotas</td>\n",
       "      <td>7</td>\n",
       "      <td>Mascotas</td>\n",
       "    </tr>\n",
       "    <tr>\n",
       "      <th>2</th>\n",
       "      <td>000229ec398224ef6ca0657da4fc703e</td>\n",
       "      <td>1</td>\n",
       "      <td>c777355d18b72b67abbeef9df44fd0fd</td>\n",
       "      <td>5b51032eddd242adc84c38acab88f23d</td>\n",
       "      <td>2018-01-18 14:48:30</td>\n",
       "      <td>199.00</td>\n",
       "      <td>17.87</td>\n",
       "      <td>6489ae5e4333f3693df5ad4372dab6d3</td>\n",
       "      <td>MG</td>\n",
       "      <td>para de minas</td>\n",
       "      <td>furniture_decor</td>\n",
       "      <td>Hogar y Construcción</td>\n",
       "      <td>1</td>\n",
       "      <td>Muebles y Decoración</td>\n",
       "    </tr>\n",
       "    <tr>\n",
       "      <th>3</th>\n",
       "      <td>00024acbcdf0a6daa1e931b038114c75</td>\n",
       "      <td>1</td>\n",
       "      <td>7634da152a4610f1595efa32f14722fc</td>\n",
       "      <td>9d7a1d34a5052409006425275ba1c2b4</td>\n",
       "      <td>2018-08-15 10:10:18</td>\n",
       "      <td>12.99</td>\n",
       "      <td>12.79</td>\n",
       "      <td>d4eb9395c8c0431ee92fce09860c5a06</td>\n",
       "      <td>SP</td>\n",
       "      <td>atibaia</td>\n",
       "      <td>perfumery</td>\n",
       "      <td>Salud y Bienestar</td>\n",
       "      <td>4</td>\n",
       "      <td>Salud y Belleza</td>\n",
       "    </tr>\n",
       "    <tr>\n",
       "      <th>4</th>\n",
       "      <td>00042b26cf59d7ce69dfabb4e55b4fd9</td>\n",
       "      <td>1</td>\n",
       "      <td>ac6c3623068f30de03045865e4e10089</td>\n",
       "      <td>df560393f3a51e74553ab94004ba5c87</td>\n",
       "      <td>2017-02-13 13:57:51</td>\n",
       "      <td>199.90</td>\n",
       "      <td>18.14</td>\n",
       "      <td>58dbd0b2d70206bf40e62cd34e84d795</td>\n",
       "      <td>SP</td>\n",
       "      <td>varzea paulista</td>\n",
       "      <td>garden_tools</td>\n",
       "      <td>Hogar y Construcción</td>\n",
       "      <td>1</td>\n",
       "      <td>Construcción, Herramientas y Seguridad</td>\n",
       "    </tr>\n",
       "  </tbody>\n",
       "</table>\n",
       "</div>"
      ],
      "text/plain": [
       "                           order_id  order_item_id  \\\n",
       "0  00010242fe8c5a6d1ba2dd792cb16214              1   \n",
       "1  00018f77f2f0320c557190d7a144bdd3              1   \n",
       "2  000229ec398224ef6ca0657da4fc703e              1   \n",
       "3  00024acbcdf0a6daa1e931b038114c75              1   \n",
       "4  00042b26cf59d7ce69dfabb4e55b4fd9              1   \n",
       "\n",
       "                         product_id                         seller_id  \\\n",
       "0  4244733e06e7ecb4970a6e2683c13e61  48436dade18ac8b2bce089ec2a041202   \n",
       "1  e5f2d52b802189ee658865ca93d83a8f  dd7ddc04e1b6c2c614352b383efe2d36   \n",
       "2  c777355d18b72b67abbeef9df44fd0fd  5b51032eddd242adc84c38acab88f23d   \n",
       "3  7634da152a4610f1595efa32f14722fc  9d7a1d34a5052409006425275ba1c2b4   \n",
       "4  ac6c3623068f30de03045865e4e10089  df560393f3a51e74553ab94004ba5c87   \n",
       "\n",
       "   shipping_limit_date   price  freight_value  \\\n",
       "0  2017-09-19 09:45:35   58.90          13.29   \n",
       "1  2017-05-03 11:05:13  239.90          19.93   \n",
       "2  2018-01-18 14:48:30  199.00          17.87   \n",
       "3  2018-08-15 10:10:18   12.99          12.79   \n",
       "4  2017-02-13 13:57:51  199.90          18.14   \n",
       "\n",
       "                        customer_id customer_state          customer_city  \\\n",
       "0  3ce436f183e68e07877b285a838db11a             RJ  campos dos goytacazes   \n",
       "1  f6dd3ec061db4e3987629fe6b26e5cce             SP        santa fe do sul   \n",
       "2  6489ae5e4333f3693df5ad4372dab6d3             MG          para de minas   \n",
       "3  d4eb9395c8c0431ee92fce09860c5a06             SP                atibaia   \n",
       "4  58dbd0b2d70206bf40e62cd34e84d795             SP        varzea paulista   \n",
       "\n",
       "      prdouct_name             categoria  categoria_id  \\\n",
       "0       cool_stuff        Ocio y Cultura             5   \n",
       "1         pet_shop    Consumo y Mascotas             7   \n",
       "2  furniture_decor  Hogar y Construcción             1   \n",
       "3        perfumery     Salud y Bienestar             4   \n",
       "4     garden_tools  Hogar y Construcción             1   \n",
       "\n",
       "                             subcategoria  \n",
       "0                         Deportes y Ocio  \n",
       "1                                Mascotas  \n",
       "2                    Muebles y Decoración  \n",
       "3                         Salud y Belleza  \n",
       "4  Construcción, Herramientas y Seguridad  "
      ]
     },
     "execution_count": 119,
     "metadata": {},
     "output_type": "execute_result"
    }
   ],
   "source": [
    "ventas_union_categorias.head()"
   ]
  },
  {
   "cell_type": "code",
   "execution_count": 120,
   "id": "51757ef8-ea6a-40b2-9784-96419e9bde63",
   "metadata": {},
   "outputs": [
    {
     "name": "stdout",
     "output_type": "stream",
     "text": [
      "categoria\n",
      "Hogar y Construcción                36602\n",
      "Ocio y Cultura                      18827\n",
      "Tecnología y Electrónica            16898\n",
      "Salud y Bienestar                   16193\n",
      "Moda y Accesorios                    9725\n",
      "Oficina y Negocios                   4787\n",
      "Servicios, Vehículos y Temporada     4632\n",
      "Consumo y Mascotas                   3359\n",
      "Otros                                1627\n",
      "Name: order_item_id, dtype: int64\n"
     ]
    }
   ],
   "source": [
    "# Cantidad vendida por categorias\n",
    "\n",
    "ventas_categorias = ventas_union_categorias.groupby('categoria')['order_item_id'].count()\n",
    "print(ventas_categorias.sort_values(ascending=False))"
   ]
  },
  {
   "cell_type": "code",
   "execution_count": 121,
   "id": "65059fa0-7cba-4030-b47f-ed94daf886ea",
   "metadata": {},
   "outputs": [
    {
     "name": "stdout",
     "output_type": "stream",
     "text": [
      "subcategoria\n",
      "Muebles y Decoración                      20099\n",
      "Deportes y Ocio                           17467\n",
      "Salud y Belleza                           13089\n",
      "Electrónica e Informática                 12089\n",
      "Hogar, Cocina y Electrodomésticos          9784\n",
      "Moda y Accesorios                          9725\n",
      "Construcción, Herramientas y Seguridad     6719\n",
      "Telefonía y Comunicaciones                 4809\n",
      "Vehículos y Accesorios                     4235\n",
      "Oficina y Papelería                        4208\n",
      "Bebé y Crianza                             3104\n",
      "Mascotas                                   1947\n",
      "Otros                                      1627\n",
      "Música, Cine y Libros                      1360\n",
      "Alimentos y Bebidas                        1167\n",
      "Negocios e Industria / Marketplace          579\n",
      "Flores y Jardinería                         245\n",
      "Seguridad y Servicios                       201\n",
      "Temporada y Fiesta                          196\n",
      "Name: order_item_id, dtype: int64\n"
     ]
    }
   ],
   "source": [
    "# Cantidad vendida por subcategorias\n",
    "\n",
    "ventas_subcategoria = ventas_union_categorias.groupby('subcategoria')['order_item_id'].count()\n",
    "print(ventas_subcategoria.sort_values(ascending=False))"
   ]
  },
  {
   "cell_type": "code",
   "execution_count": 122,
   "id": "7903dfd8-4e7d-4228-b290-0e5662ae4b85",
   "metadata": {},
   "outputs": [
    {
     "name": "stdout",
     "output_type": "stream",
     "text": [
      "prdouct_name\n",
      "bed_bath_table               11115\n",
      "health_beauty                 9670\n",
      "sports_leisure                8641\n",
      "furniture_decor               8334\n",
      "computers_accessories         7827\n",
      "                             ...  \n",
      "arts_and_craftmanship           24\n",
      "la_cuisine                      14\n",
      "cds_dvds_musicals               14\n",
      "fashion_childrens_clothes        8\n",
      "security_and_services            2\n",
      "Name: order_item_id, Length: 71, dtype: int64\n"
     ]
    }
   ],
   "source": [
    "# Cantidad vendida por productos\n",
    "\n",
    "ventas_productos = ventas_union_categorias.groupby('prdouct_name')['order_item_id'].count()\n",
    "print(ventas_productos.sort_values(ascending=False))"
   ]
  },
  {
   "cell_type": "code",
   "execution_count": 123,
   "id": "b2d5b99d-6edd-4a0e-b765-12c7a4ceded2",
   "metadata": {},
   "outputs": [
    {
     "data": {
      "text/plain": [
       "1627"
      ]
     },
     "execution_count": 123,
     "metadata": {},
     "output_type": "execute_result"
    }
   ],
   "source": [
    "ventas_union_categorias['prdouct_name'].isnull().sum()"
   ]
  },
  {
   "cell_type": "code",
   "execution_count": 124,
   "id": "a2d4d0fb-3c57-47ad-b12b-1323c08842a4",
   "metadata": {},
   "outputs": [
    {
     "data": {
      "text/plain": [
       "112650"
      ]
     },
     "execution_count": 124,
     "metadata": {},
     "output_type": "execute_result"
    }
   ],
   "source": [
    "ventas_union_categorias['order_item_id'].count()"
   ]
  },
  {
   "cell_type": "code",
   "execution_count": 125,
   "id": "b5869b1b-2938-4291-bc0d-256858e5161c",
   "metadata": {},
   "outputs": [
    {
     "data": {
      "text/plain": [
       "array(['customer_id', 'customer_unique_id', 'customer_zip_code_prefix',\n",
       "       'customer_city', 'customer_state'], dtype=object)"
      ]
     },
     "execution_count": 125,
     "metadata": {},
     "output_type": "execute_result"
    }
   ],
   "source": [
    "clientes.columns.values"
   ]
  },
  {
   "cell_type": "code",
   "execution_count": 126,
   "id": "ce7cdca8-6927-4a6d-a1d3-152dbc653845",
   "metadata": {},
   "outputs": [
    {
     "data": {
      "text/plain": [
       "98666"
      ]
     },
     "execution_count": 126,
     "metadata": {},
     "output_type": "execute_result"
    }
   ],
   "source": [
    "ventas_union_categorias['customer_id'].nunique()"
   ]
  },
  {
   "cell_type": "code",
   "execution_count": 127,
   "id": "025b902d-de28-4470-870f-13891deed889",
   "metadata": {},
   "outputs": [
    {
     "data": {
      "text/plain": [
       "array(['customer_id', 'customer_unique_id', 'customer_zip_code_prefix',\n",
       "       'customer_city', 'customer_state'], dtype=object)"
      ]
     },
     "execution_count": 127,
     "metadata": {},
     "output_type": "execute_result"
    }
   ],
   "source": [
    "clientes.columns.values"
   ]
  },
  {
   "cell_type": "code",
   "execution_count": 128,
   "id": "eea8ab6c-ac99-42c9-82f2-c885ec702aa4",
   "metadata": {},
   "outputs": [],
   "source": [
    "clientes_filtrado = clientes[['customer_id', 'customer_unique_id']]"
   ]
  },
  {
   "cell_type": "code",
   "execution_count": 129,
   "id": "085addfb-bc86-464e-b40d-369c1c67af10",
   "metadata": {},
   "outputs": [],
   "source": [
    "ventas_union_final = pd.merge(ventas_union_categorias, clientes_filtrado, on='customer_id', how='left')"
   ]
  },
  {
   "cell_type": "code",
   "execution_count": 130,
   "id": "19c225b5-872c-4ff5-b020-e9b75e671cd2",
   "metadata": {},
   "outputs": [
    {
     "name": "stdout",
     "output_type": "stream",
     "text": [
      "Clientes recurrentes: 2913\n",
      "Clientes 1 compra: 92507\n"
     ]
    }
   ],
   "source": [
    "opc = ventas_union_final.groupby('customer_unique_id')['order_id'].nunique()\n",
    "\n",
    "clientes_recurrentes = (opc > 1).sum()\n",
    "clientes_1_compra    = (opc == 1).sum()\n",
    "\n",
    "print(\"Clientes recurrentes:\", clientes_recurrentes)\n",
    "print(\"Clientes 1 compra:\", clientes_1_compra)"
   ]
  },
  {
   "cell_type": "code",
   "execution_count": 131,
   "id": "c39b315c-3eb6-451c-b15e-90c2dce31485",
   "metadata": {},
   "outputs": [
    {
     "name": "stdout",
     "output_type": "stream",
     "text": [
      "Clientes totales: 95420\n"
     ]
    }
   ],
   "source": [
    "clientes_totales = ventas_union_final['customer_unique_id'].nunique()\n",
    "print(\"Clientes totales:\", clientes_totales)"
   ]
  },
  {
   "cell_type": "markdown",
   "id": "f03a2f43-508e-4f34-b9c7-70b4e5f669ed",
   "metadata": {},
   "source": [
    "### Queremos verificar el resultado de entregas atrasadas que nos dio la medida de POWER BI."
   ]
  },
  {
   "cell_type": "code",
   "execution_count": 132,
   "id": "0bd45ae3-5435-4b26-9b71-524df0b58d24",
   "metadata": {},
   "outputs": [],
   "source": [
    "ventas_union_final[\"shipping_limit_date\"] = pd.to_datetime(ventas_union_final[\"shipping_limit_date\"])\n",
    "ordenes_2[\"order_delivered_customer_date\"] = pd.to_datetime(ordenes_2[\"order_delivered_customer_date\"])"
   ]
  },
  {
   "cell_type": "code",
   "execution_count": 133,
   "id": "bb79cb53-b96a-415d-8f4a-e9c7b3aac973",
   "metadata": {},
   "outputs": [],
   "source": [
    "df_atrasos = ventas_union_final.merge(ordenes_2[[\"order_id\", \"order_delivered_customer_date\"]], on=\"order_id\", how=\"left\")"
   ]
  },
  {
   "cell_type": "code",
   "execution_count": 134,
   "id": "acc67d86-209e-4afe-a60b-9980edc4c691",
   "metadata": {},
   "outputs": [],
   "source": [
    "df_atrasos[\"atrasado\"] = (df_atrasos[\"order_delivered_customer_date\"] > df_atrasos[\"shipping_limit_date\"]).astype(int)"
   ]
  },
  {
   "cell_type": "code",
   "execution_count": 135,
   "id": "e5ddebad-47c5-4698-9c98-75b8988e135f",
   "metadata": {},
   "outputs": [
    {
     "data": {
      "text/html": [
       "<div>\n",
       "<style scoped>\n",
       "    .dataframe tbody tr th:only-of-type {\n",
       "        vertical-align: middle;\n",
       "    }\n",
       "\n",
       "    .dataframe tbody tr th {\n",
       "        vertical-align: top;\n",
       "    }\n",
       "\n",
       "    .dataframe thead th {\n",
       "        text-align: right;\n",
       "    }\n",
       "</style>\n",
       "<table border=\"1\" class=\"dataframe\">\n",
       "  <thead>\n",
       "    <tr style=\"text-align: right;\">\n",
       "      <th></th>\n",
       "      <th>order_delivered_customer_date</th>\n",
       "      <th>shipping_limit_date</th>\n",
       "      <th>atrasado</th>\n",
       "    </tr>\n",
       "  </thead>\n",
       "  <tbody>\n",
       "    <tr>\n",
       "      <th>0</th>\n",
       "      <td>2017-09-20 23:43:48</td>\n",
       "      <td>2017-09-19 09:45:35</td>\n",
       "      <td>1</td>\n",
       "    </tr>\n",
       "    <tr>\n",
       "      <th>1</th>\n",
       "      <td>2017-05-12 16:04:24</td>\n",
       "      <td>2017-05-03 11:05:13</td>\n",
       "      <td>1</td>\n",
       "    </tr>\n",
       "    <tr>\n",
       "      <th>2</th>\n",
       "      <td>2018-01-22 13:19:16</td>\n",
       "      <td>2018-01-18 14:48:30</td>\n",
       "      <td>1</td>\n",
       "    </tr>\n",
       "    <tr>\n",
       "      <th>3</th>\n",
       "      <td>2018-08-14 13:32:39</td>\n",
       "      <td>2018-08-15 10:10:18</td>\n",
       "      <td>0</td>\n",
       "    </tr>\n",
       "    <tr>\n",
       "      <th>4</th>\n",
       "      <td>2017-03-01 16:42:31</td>\n",
       "      <td>2017-02-13 13:57:51</td>\n",
       "      <td>1</td>\n",
       "    </tr>\n",
       "    <tr>\n",
       "      <th>5</th>\n",
       "      <td>2017-05-22 13:44:35</td>\n",
       "      <td>2017-05-23 03:55:27</td>\n",
       "      <td>0</td>\n",
       "    </tr>\n",
       "    <tr>\n",
       "      <th>6</th>\n",
       "      <td>2017-12-18 22:03:38</td>\n",
       "      <td>2017-12-14 12:10:31</td>\n",
       "      <td>1</td>\n",
       "    </tr>\n",
       "    <tr>\n",
       "      <th>7</th>\n",
       "      <td>2018-07-09 14:04:07</td>\n",
       "      <td>2018-07-10 12:30:45</td>\n",
       "      <td>0</td>\n",
       "    </tr>\n",
       "    <tr>\n",
       "      <th>8</th>\n",
       "      <td>2018-03-29 18:17:31</td>\n",
       "      <td>2018-03-26 18:31:29</td>\n",
       "      <td>1</td>\n",
       "    </tr>\n",
       "    <tr>\n",
       "      <th>9</th>\n",
       "      <td>2018-07-04 17:28:31</td>\n",
       "      <td>2018-07-06 14:10:56</td>\n",
       "      <td>0</td>\n",
       "    </tr>\n",
       "    <tr>\n",
       "      <th>10</th>\n",
       "      <td>2018-03-29 00:04:19</td>\n",
       "      <td>2018-03-29 22:28:09</td>\n",
       "      <td>0</td>\n",
       "    </tr>\n",
       "    <tr>\n",
       "      <th>11</th>\n",
       "      <td>2018-08-07 13:56:52</td>\n",
       "      <td>2018-07-31 17:30:39</td>\n",
       "      <td>1</td>\n",
       "    </tr>\n",
       "    <tr>\n",
       "      <th>12</th>\n",
       "      <td>2018-07-31 01:04:15</td>\n",
       "      <td>2018-07-26 17:24:20</td>\n",
       "      <td>1</td>\n",
       "    </tr>\n",
       "    <tr>\n",
       "      <th>13</th>\n",
       "      <td>2018-02-26 13:55:22</td>\n",
       "      <td>2018-02-21 02:55:52</td>\n",
       "      <td>1</td>\n",
       "    </tr>\n",
       "    <tr>\n",
       "      <th>14</th>\n",
       "      <td>2018-02-26 13:55:22</td>\n",
       "      <td>2018-02-21 02:55:52</td>\n",
       "      <td>1</td>\n",
       "    </tr>\n",
       "    <tr>\n",
       "      <th>15</th>\n",
       "      <td>2018-08-22 12:02:27</td>\n",
       "      <td>2018-08-17 12:15:10</td>\n",
       "      <td>1</td>\n",
       "    </tr>\n",
       "    <tr>\n",
       "      <th>16</th>\n",
       "      <td>2018-04-30 17:54:25</td>\n",
       "      <td>2018-05-02 09:31:53</td>\n",
       "      <td>0</td>\n",
       "    </tr>\n",
       "    <tr>\n",
       "      <th>17</th>\n",
       "      <td>2018-05-18 16:46:31</td>\n",
       "      <td>2018-05-16 20:57:03</td>\n",
       "      <td>1</td>\n",
       "    </tr>\n",
       "    <tr>\n",
       "      <th>18</th>\n",
       "      <td>2017-08-19 15:22:17</td>\n",
       "      <td>2017-08-21 03:33:13</td>\n",
       "      <td>0</td>\n",
       "    </tr>\n",
       "    <tr>\n",
       "      <th>19</th>\n",
       "      <td>2018-03-12 18:46:34</td>\n",
       "      <td>2018-02-28 12:08:37</td>\n",
       "      <td>1</td>\n",
       "    </tr>\n",
       "  </tbody>\n",
       "</table>\n",
       "</div>"
      ],
      "text/plain": [
       "   order_delivered_customer_date shipping_limit_date  atrasado\n",
       "0            2017-09-20 23:43:48 2017-09-19 09:45:35         1\n",
       "1            2017-05-12 16:04:24 2017-05-03 11:05:13         1\n",
       "2            2018-01-22 13:19:16 2018-01-18 14:48:30         1\n",
       "3            2018-08-14 13:32:39 2018-08-15 10:10:18         0\n",
       "4            2017-03-01 16:42:31 2017-02-13 13:57:51         1\n",
       "5            2017-05-22 13:44:35 2017-05-23 03:55:27         0\n",
       "6            2017-12-18 22:03:38 2017-12-14 12:10:31         1\n",
       "7            2018-07-09 14:04:07 2018-07-10 12:30:45         0\n",
       "8            2018-03-29 18:17:31 2018-03-26 18:31:29         1\n",
       "9            2018-07-04 17:28:31 2018-07-06 14:10:56         0\n",
       "10           2018-03-29 00:04:19 2018-03-29 22:28:09         0\n",
       "11           2018-08-07 13:56:52 2018-07-31 17:30:39         1\n",
       "12           2018-07-31 01:04:15 2018-07-26 17:24:20         1\n",
       "13           2018-02-26 13:55:22 2018-02-21 02:55:52         1\n",
       "14           2018-02-26 13:55:22 2018-02-21 02:55:52         1\n",
       "15           2018-08-22 12:02:27 2018-08-17 12:15:10         1\n",
       "16           2018-04-30 17:54:25 2018-05-02 09:31:53         0\n",
       "17           2018-05-18 16:46:31 2018-05-16 20:57:03         1\n",
       "18           2017-08-19 15:22:17 2017-08-21 03:33:13         0\n",
       "19           2018-03-12 18:46:34 2018-02-28 12:08:37         1"
      ]
     },
     "execution_count": 135,
     "metadata": {},
     "output_type": "execute_result"
    }
   ],
   "source": [
    "df_atrasos[['order_delivered_customer_date', 'shipping_limit_date', 'atrasado']].head(20)"
   ]
  },
  {
   "cell_type": "code",
   "execution_count": 136,
   "id": "72099d8b-3af6-4b1d-86d7-b9bcc688ce3f",
   "metadata": {},
   "outputs": [
    {
     "name": "stdout",
     "output_type": "stream",
     "text": [
      "Porcentaje entregas atrasadas: 0.7739280958721705\n",
      "Formato porcentaje: 77.39%\n"
     ]
    }
   ],
   "source": [
    "# Porcentaje de atrasadas\n",
    "porcentaje_atrasadas = df_atrasos[\"atrasado\"].mean()\n",
    "print(\"Porcentaje entregas atrasadas:\", porcentaje_atrasadas)\n",
    "print(\"Formato porcentaje:\", f\"{porcentaje_atrasadas:.2%}\")"
   ]
  },
  {
   "cell_type": "code",
   "execution_count": null,
   "id": "05b08a39-f0a9-4925-8917-be37005b4c3e",
   "metadata": {},
   "outputs": [],
   "source": []
  }
 ],
 "metadata": {
  "kernelspec": {
   "display_name": "base",
   "language": "python",
   "name": "python3"
  },
  "language_info": {
   "codemirror_mode": {
    "name": "ipython",
    "version": 3
   },
   "file_extension": ".py",
   "mimetype": "text/x-python",
   "name": "python",
   "nbconvert_exporter": "python",
   "pygments_lexer": "ipython3",
   "version": "3.12.7"
  }
 },
 "nbformat": 4,
 "nbformat_minor": 5
}
